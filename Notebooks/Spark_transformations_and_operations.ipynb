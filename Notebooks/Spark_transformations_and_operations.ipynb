{
  "nbformat": 4,
  "nbformat_minor": 0,
  "metadata": {
    "colab": {
      "name": "Spark transformations and operations.ipynb",
      "version": "0.3.2",
      "provenance": [],
      "collapsed_sections": [
        "YCXZj5y4ntEz",
        "uGR70_CmpnG6",
        "7fyfBBm-tQPp",
        "1tdel7n4vkgI",
        "nwjZOlOux4Wg",
        "FOBRfxEZynkH",
        "prognoEK2CR1",
        "RlgfoiWu2LqF",
        "x5bgTo8O4K0-"
      ],
      "toc_visible": true
    },
    "kernelspec": {
      "name": "python3",
      "display_name": "Python 3"
    }
  },
  "cells": [
    {
      "metadata": {
        "id": "YCXZj5y4ntEz",
        "colab_type": "text"
      },
      "cell_type": "markdown",
      "source": [
        "\n",
        "# **Running Pyspark in Colab**\n",
        "\n",
        "To run spark in Colab, we need to first install all the dependencies in Colab environment i.e. Apache Spark 2.3.2 with hadoop 2.7, Java 8 and Findspark to locate the spark in the system. The tools installation can be carried out inside the Jupyter Notebook of the Colab. One important note is that if you are new in Spark, it is better to avoid Spark 2.4.0 version since some people have already complained about its compatibility issue with python. \n",
        "Follow the steps to install the dependencies:"
      ]
    },
    {
      "metadata": {
        "id": "kMehPZjVnryn",
        "colab_type": "code",
        "colab": {}
      },
      "cell_type": "code",
      "source": [
        "!apt-get install openjdk-8-jdk-headless -qq > /dev/null\n",
        "!wget -q http://apache.osuosl.org/spark/spark-2.3.3/spark-2.3.3-bin-hadoop2.7.tgz\n",
        "!tar xf spark-2.3.3-bin-hadoop2.7.tgz\n",
        "!pip install -q findspark"
      ],
      "execution_count": 0,
      "outputs": []
    },
    {
      "metadata": {
        "id": "0FMVMjF4n9m6",
        "colab_type": "text"
      },
      "cell_type": "markdown",
      "source": [
        "Now that you installed Spark and Java in Colab, it is time to set the environment path which enables you to run Pyspark in your Colab environment. Set the location of Java and Spark by running the following code:"
      ]
    },
    {
      "metadata": {
        "id": "AqKwfEiRn-_C",
        "colab_type": "code",
        "colab": {}
      },
      "cell_type": "code",
      "source": [
        "import os\n",
        "os.environ[\"JAVA_HOME\"] = \"/usr/lib/jvm/java-8-openjdk-amd64\"\n",
        "os.environ[\"SPARK_HOME\"] = \"/content/spark-2.3.3-bin-hadoop2.7\""
      ],
      "execution_count": 0,
      "outputs": []
    },
    {
      "metadata": {
        "id": "yNyEVXesoCXx",
        "colab_type": "text"
      },
      "cell_type": "markdown",
      "source": [
        "Run a local spark session to test your installation:"
      ]
    },
    {
      "metadata": {
        "id": "Llqvfso4oFG5",
        "colab_type": "code",
        "colab": {}
      },
      "cell_type": "code",
      "source": [
        "import findspark\n",
        "findspark.init()\n",
        "from pyspark.sql import SparkSession\n",
        "from pyspark import SparkContext\n",
        "spark = SparkSession.builder.master(\"local[*]\").getOrCreate()\n",
        "sc = SparkContext.getOrCreate()"
      ],
      "execution_count": 0,
      "outputs": []
    },
    {
      "metadata": {
        "id": "b0NJGqOLoJV5",
        "colab_type": "code",
        "outputId": "5abe415d-43dd-489f-8b05-7fcff2f90f75",
        "colab": {
          "base_uri": "https://localhost:8080/",
          "height": 84
        }
      },
      "cell_type": "code",
      "source": [
        "nums = sc.parallelize([1,2,3,4])\n",
        "squared = nums.map(lambda x: x * x).collect()\n",
        "for num in squared:\n",
        "  print (num)"
      ],
      "execution_count": 0,
      "outputs": [
        {
          "output_type": "stream",
          "text": [
            "1\n",
            "4\n",
            "9\n",
            "16\n"
          ],
          "name": "stdout"
        }
      ]
    },
    {
      "metadata": {
        "id": "uGR70_CmpnG6",
        "colab_type": "text"
      },
      "cell_type": "markdown",
      "source": [
        "# **First App**\n",
        "\n",
        "First Spark program"
      ]
    },
    {
      "metadata": {
        "id": "2f6OKYoZqS7p",
        "colab_type": "text"
      },
      "cell_type": "markdown",
      "source": [
        "Upload a file to colab"
      ]
    },
    {
      "metadata": {
        "id": "x8kxgAY5qgHZ",
        "colab_type": "code",
        "outputId": "8445f37c-5dfa-454f-80ea-7406ff1c53fe",
        "colab": {
          "resources": {
            "http://localhost:8080/nbextensions/google.colab/files.js": {
              "data": "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",
              "ok": true,
              "headers": [
                [
                  "content-type",
                  "application/javascript"
                ]
              ],
              "status": 200,
              "status_text": ""
            }
          },
          "base_uri": "https://localhost:8080/",
          "height": 108
        }
      },
      "cell_type": "code",
      "source": [
        "from google.colab import files\n",
        "\n",
        "uploaded = files.upload()\n",
        "\n",
        "for fn in uploaded.keys():\n",
        "  print('User uploaded file \"{name}\" with length {length} bytes'.format(\n",
        "      name=fn, length=len(uploaded[fn])))"
      ],
      "execution_count": 0,
      "outputs": [
        {
          "output_type": "display_data",
          "data": {
            "text/html": [
              "\n",
              "     <input type=\"file\" id=\"files-02f6c37e-e975-41dd-b2ff-01709c8218f2\" name=\"files[]\" multiple disabled />\n",
              "     <output id=\"result-02f6c37e-e975-41dd-b2ff-01709c8218f2\">\n",
              "      Upload widget is only available when the cell has been executed in the\n",
              "      current browser session. Please rerun this cell to enable.\n",
              "      </output>\n",
              "      <script src=\"/nbextensions/google.colab/files.js\"></script> "
            ],
            "text/plain": [
              "<IPython.core.display.HTML object>"
            ]
          },
          "metadata": {
            "tags": []
          }
        },
        {
          "output_type": "stream",
          "text": [
            "Saving auto-data.csv to auto-data.csv\n",
            "User uploaded file \"auto-data.csv\" with length 11549 bytes\n"
          ],
          "name": "stdout"
        }
      ]
    },
    {
      "metadata": {
        "id": "3e8Ftx8Sp3NC",
        "colab_type": "text"
      },
      "cell_type": "markdown",
      "source": [
        "Create an RDD by loading from a file"
      ]
    },
    {
      "metadata": {
        "id": "0yiWcNsmp2vp",
        "colab_type": "code",
        "colab": {}
      },
      "cell_type": "code",
      "source": [
        "tweetsRDD = sc.textFile(\"movietweets.csv\")"
      ],
      "execution_count": 0,
      "outputs": []
    },
    {
      "metadata": {
        "id": "dueblx3-p8hi",
        "colab_type": "text"
      },
      "cell_type": "markdown",
      "source": [
        "Show top 5 records"
      ]
    },
    {
      "metadata": {
        "id": "dXNwVRR2p14y",
        "colab_type": "code",
        "outputId": "b12cd8e8-2865-4192-beed-4aff12096f5c",
        "colab": {
          "base_uri": "https://localhost:8080/",
          "height": 120
        }
      },
      "cell_type": "code",
      "source": [
        "tweetsRDD.take(5)"
      ],
      "execution_count": 0,
      "outputs": [
        {
          "output_type": "execute_result",
          "data": {
            "text/plain": [
              "['positive,The Da Vinci Code book is just awesome.',\n",
              " 'positive,i liked the Da Vinci Code a lot.',\n",
              " 'positive,i liked the Da Vinci Code a lot.',\n",
              " \"positive,I liked the Da Vinci Code but it ultimatly didn't seem to hold it's own.\",\n",
              " \"positive,that's not even an exaggeration ) and at midnight we went to Wal-Mart to buy the Da Vinci Code\"]"
            ]
          },
          "metadata": {
            "tags": []
          },
          "execution_count": 11
        }
      ]
    },
    {
      "metadata": {
        "id": "iyhGQ3nxqBLR",
        "colab_type": "text"
      },
      "cell_type": "markdown",
      "source": [
        "Transform Data - change to upper Case"
      ]
    },
    {
      "metadata": {
        "id": "zNvSk8XZqMnx",
        "colab_type": "code",
        "outputId": "08bebbee-a2fc-4c5a-b56f-93a2e4076d4d",
        "colab": {
          "base_uri": "https://localhost:8080/",
          "height": 120
        }
      },
      "cell_type": "code",
      "source": [
        "ucRDD = tweetsRDD.map( lambda x : x.upper() )\n",
        "ucRDD.take(5)"
      ],
      "execution_count": 0,
      "outputs": [
        {
          "output_type": "execute_result",
          "data": {
            "text/plain": [
              "['POSITIVE,THE DA VINCI CODE BOOK IS JUST AWESOME.',\n",
              " 'POSITIVE,I LIKED THE DA VINCI CODE A LOT.',\n",
              " 'POSITIVE,I LIKED THE DA VINCI CODE A LOT.',\n",
              " \"POSITIVE,I LIKED THE DA VINCI CODE BUT IT ULTIMATLY DIDN'T SEEM TO HOLD IT'S OWN.\",\n",
              " \"POSITIVE,THAT'S NOT EVEN AN EXAGGERATION ) AND AT MIDNIGHT WE WENT TO WAL-MART TO BUY THE DA VINCI CODE\"]"
            ]
          },
          "metadata": {
            "tags": []
          },
          "execution_count": 12
        }
      ]
    },
    {
      "metadata": {
        "id": "IvkBx8sDqF65",
        "colab_type": "text"
      },
      "cell_type": "markdown",
      "source": [
        "Action - Count the number of tweets"
      ]
    },
    {
      "metadata": {
        "id": "KhgFEpZOqHty",
        "colab_type": "code",
        "outputId": "fe5d01f5-d205-4878-8372-8243c0332f01",
        "colab": {
          "base_uri": "https://localhost:8080/",
          "height": 33
        }
      },
      "cell_type": "code",
      "source": [
        "tweetsRDD.count()"
      ],
      "execution_count": 0,
      "outputs": [
        {
          "output_type": "execute_result",
          "data": {
            "text/plain": [
              "100"
            ]
          },
          "metadata": {
            "tags": []
          },
          "execution_count": 13
        }
      ]
    },
    {
      "metadata": {
        "id": "7fyfBBm-tQPp",
        "colab_type": "text"
      },
      "cell_type": "markdown",
      "source": [
        "# **Spark Operations**\n",
        "\n",
        "First Spark program"
      ]
    },
    {
      "metadata": {
        "id": "7NZEAQHmtce5",
        "colab_type": "text"
      },
      "cell_type": "markdown",
      "source": [
        "Load from a collection"
      ]
    },
    {
      "metadata": {
        "id": "Q6a_i0mltbsR",
        "colab_type": "code",
        "outputId": "f222d642-da2b-447d-e2be-ca3bb78de580",
        "colab": {
          "base_uri": "https://localhost:8080/",
          "height": 33
        }
      },
      "cell_type": "code",
      "source": [
        "collData = sc.parallelize([4,3,8,5,8])\n",
        "collData.collect()"
      ],
      "execution_count": 0,
      "outputs": [
        {
          "output_type": "execute_result",
          "data": {
            "text/plain": [
              "[4, 3, 8, 5, 8]"
            ]
          },
          "metadata": {
            "tags": []
          },
          "execution_count": 16
        }
      ]
    },
    {
      "metadata": {
        "id": "iHGMelTduIo4",
        "colab_type": "text"
      },
      "cell_type": "markdown",
      "source": [
        "Load the file. Lazy initialization"
      ]
    },
    {
      "metadata": {
        "id": "02ZtggqFuOMI",
        "colab_type": "code",
        "outputId": "a99a8c07-a6bc-438e-f64e-7f75fb864b2f",
        "colab": {
          "base_uri": "https://localhost:8080/",
          "height": 87
        }
      },
      "cell_type": "code",
      "source": [
        "autoData = sc.textFile(\"auto-data.csv\")\n",
        "autoData.cache()\n",
        "#Loads only now.\n",
        "print(autoData.count())\n",
        "print(autoData.first())\n",
        "print(autoData.take(5))\n",
        "new_rdd = sc.parallelize(autoData.take(5))"
      ],
      "execution_count": 0,
      "outputs": [
        {
          "output_type": "stream",
          "text": [
            "198\n",
            "MAKE,FUELTYPE,ASPIRE,DOORS,BODY,DRIVE,CYLINDERS,HP,RPM,MPG-CITY,MPG-HWY,PRICE\n",
            "['MAKE,FUELTYPE,ASPIRE,DOORS,BODY,DRIVE,CYLINDERS,HP,RPM,MPG-CITY,MPG-HWY,PRICE', 'subaru,gas,std,two,hatchback,fwd,four,69,4900,31,36,5118', 'chevrolet,gas,std,two,hatchback,fwd,three,48,5100,47,53,5151', 'mazda,gas,std,two,hatchback,fwd,four,68,5000,30,31,5195', 'toyota,gas,std,two,hatchback,fwd,four,62,4800,35,39,5348']\n"
          ],
          "name": "stdout"
        }
      ]
    },
    {
      "metadata": {
        "id": "vJwqo1tCuXAg",
        "colab_type": "code",
        "outputId": "14ae0529-1229-4bfa-fd4e-e73a297cd914",
        "colab": {
          "base_uri": "https://localhost:8080/",
          "height": 120
        }
      },
      "cell_type": "code",
      "source": [
        "for line in new_rdd.collect():\n",
        "    print(line)"
      ],
      "execution_count": 0,
      "outputs": [
        {
          "output_type": "stream",
          "text": [
            "MAKE,FUELTYPE,ASPIRE,DOORS,BODY,DRIVE,CYLINDERS,HP,RPM,MPG-CITY,MPG-HWY,PRICE\n",
            "subaru,gas,std,two,hatchback,fwd,four,69,4900,31,36,5118\n",
            "chevrolet,gas,std,two,hatchback,fwd,three,48,5100,47,53,5151\n",
            "mazda,gas,std,two,hatchback,fwd,four,68,5000,30,31,5195\n",
            "toyota,gas,std,two,hatchback,fwd,four,62,4800,35,39,5348\n"
          ],
          "name": "stdout"
        }
      ]
    },
    {
      "metadata": {
        "id": "9dJtB4l3upYS",
        "colab_type": "text"
      },
      "cell_type": "markdown",
      "source": [
        "Save to a local file. First collect the RDD to the master and then save as local file."
      ]
    },
    {
      "metadata": {
        "id": "FpdlqJSDvKNg",
        "colab_type": "code",
        "colab": {}
      },
      "cell_type": "code",
      "source": [
        "autoDataFile = open(\"auto-data-saved.csv\",\"w\")\n",
        "autoDataFile.write(\"\\n\".join(new_rdd.collect()))\n",
        "autoDataFile.close()"
      ],
      "execution_count": 0,
      "outputs": []
    },
    {
      "metadata": {
        "id": "F12E33YkvbXA",
        "colab_type": "code",
        "outputId": "d98c7c55-5694-47be-8ae0-39f9964453b3",
        "colab": {
          "base_uri": "https://localhost:8080/",
          "height": 120
        }
      },
      "cell_type": "code",
      "source": [
        "!cat auto-data-saved.csv"
      ],
      "execution_count": 0,
      "outputs": [
        {
          "output_type": "stream",
          "text": [
            "MAKE,FUELTYPE,ASPIRE,DOORS,BODY,DRIVE,CYLINDERS,HP,RPM,MPG-CITY,MPG-HWY,PRICE\n",
            "subaru,gas,std,two,hatchback,fwd,four,69,4900,31,36,5118\n",
            "chevrolet,gas,std,two,hatchback,fwd,three,48,5100,47,53,5151\n",
            "mazda,gas,std,two,hatchback,fwd,four,68,5000,30,31,5195\n",
            "toyota,gas,std,two,hatchback,fwd,four,62,4800,35,39,5348"
          ],
          "name": "stdout"
        }
      ]
    },
    {
      "metadata": {
        "id": "1tdel7n4vkgI",
        "colab_type": "text"
      },
      "cell_type": "markdown",
      "source": [
        "# **Transformations**"
      ]
    },
    {
      "metadata": {
        "id": "RmqS-53hvrWq",
        "colab_type": "text"
      },
      "cell_type": "markdown",
      "source": [
        "Map and create a new RDD"
      ]
    },
    {
      "metadata": {
        "id": "h76EuonLvp1Q",
        "colab_type": "code",
        "outputId": "2252ce84-04e5-4bd7-a1cc-37bb988585e7",
        "colab": {
          "base_uri": "https://localhost:8080/",
          "height": 120
        }
      },
      "cell_type": "code",
      "source": [
        "tsvData=autoData.map(lambda x : x.replace(\",\",\"\\t\"))\n",
        "tsvData.take(5)"
      ],
      "execution_count": 0,
      "outputs": [
        {
          "output_type": "execute_result",
          "data": {
            "text/plain": [
              "['MAKE\\tFUELTYPE\\tASPIRE\\tDOORS\\tBODY\\tDRIVE\\tCYLINDERS\\tHP\\tRPM\\tMPG-CITY\\tMPG-HWY\\tPRICE',\n",
              " 'subaru\\tgas\\tstd\\ttwo\\thatchback\\tfwd\\tfour\\t69\\t4900\\t31\\t36\\t5118',\n",
              " 'chevrolet\\tgas\\tstd\\ttwo\\thatchback\\tfwd\\tthree\\t48\\t5100\\t47\\t53\\t5151',\n",
              " 'mazda\\tgas\\tstd\\ttwo\\thatchback\\tfwd\\tfour\\t68\\t5000\\t30\\t31\\t5195',\n",
              " 'toyota\\tgas\\tstd\\ttwo\\thatchback\\tfwd\\tfour\\t62\\t4800\\t35\\t39\\t5348']"
            ]
          },
          "metadata": {
            "tags": []
          },
          "execution_count": 30
        }
      ]
    },
    {
      "metadata": {
        "id": "3xANJuG2vwPR",
        "colab_type": "text"
      },
      "cell_type": "markdown",
      "source": [
        "Filter and create a new RDD"
      ]
    },
    {
      "metadata": {
        "id": "vvagYZvOvzch",
        "colab_type": "code",
        "outputId": "de953c6d-f2c9-4daa-e087-ff129059cbda",
        "colab": {
          "base_uri": "https://localhost:8080/",
          "height": 33
        }
      },
      "cell_type": "code",
      "source": [
        "toyotaData=autoData.filter(lambda x: \"toyota\" in x)\n",
        "toyotaData.count()"
      ],
      "execution_count": 0,
      "outputs": [
        {
          "output_type": "execute_result",
          "data": {
            "text/plain": [
              "32"
            ]
          },
          "metadata": {
            "tags": []
          },
          "execution_count": 31
        }
      ]
    },
    {
      "metadata": {
        "id": "egpzVGtNv3Mp",
        "colab_type": "text"
      },
      "cell_type": "markdown",
      "source": [
        "FlatMap"
      ]
    },
    {
      "metadata": {
        "id": "hf8DVjJev5No",
        "colab_type": "code",
        "outputId": "782fffcd-6695-4fef-9103-4444f1caad9f",
        "colab": {
          "base_uri": "https://localhost:8080/",
          "height": 351
        }
      },
      "cell_type": "code",
      "source": [
        "words=toyotaData.flatMap(lambda line: line.split(\",\"))\n",
        "words.count()\n",
        "words.take(20)"
      ],
      "execution_count": 0,
      "outputs": [
        {
          "output_type": "execute_result",
          "data": {
            "text/plain": [
              "['toyota',\n",
              " 'gas',\n",
              " 'std',\n",
              " 'two',\n",
              " 'hatchback',\n",
              " 'fwd',\n",
              " 'four',\n",
              " '62',\n",
              " '4800',\n",
              " '35',\n",
              " '39',\n",
              " '5348',\n",
              " 'toyota',\n",
              " 'gas',\n",
              " 'std',\n",
              " 'two',\n",
              " 'hatchback',\n",
              " 'fwd',\n",
              " 'four',\n",
              " '62']"
            ]
          },
          "metadata": {
            "tags": []
          },
          "execution_count": 34
        }
      ]
    },
    {
      "metadata": {
        "id": "7QEV1C_awIhQ",
        "colab_type": "text"
      },
      "cell_type": "markdown",
      "source": [
        "Distinct"
      ]
    },
    {
      "metadata": {
        "id": "ZVOpMH--wKAa",
        "colab_type": "code",
        "outputId": "ab96a7db-6713-4ea1-9f96-e8d516065e1d",
        "colab": {
          "base_uri": "https://localhost:8080/",
          "height": 84
        }
      },
      "cell_type": "code",
      "source": [
        "for numbData in collData.distinct().collect():\n",
        "    print(numbData)"
      ],
      "execution_count": 0,
      "outputs": [
        {
          "output_type": "stream",
          "text": [
            "4\n",
            "8\n",
            "3\n",
            "5\n"
          ],
          "name": "stdout"
        }
      ]
    },
    {
      "metadata": {
        "id": "yTagQFCiwPzY",
        "colab_type": "text"
      },
      "cell_type": "markdown",
      "source": [
        "Set operations"
      ]
    },
    {
      "metadata": {
        "id": "nJI0Xdj8wQbp",
        "colab_type": "code",
        "outputId": "ddf5138a-8b38-4330-aa57-f6951582bbc6",
        "colab": {
          "base_uri": "https://localhost:8080/",
          "height": 150
        }
      },
      "cell_type": "code",
      "source": [
        "words1 = sc.parallelize([\"hello\",\"war\",\"peace\",\"world\"])\n",
        "words2 = sc.parallelize([\"war\",\"peace\",\"universe\"])\n",
        "\n",
        "for unions in words1.union(words2).distinct().collect():\n",
        "    print(unions)\n",
        "print(\"------------------\")\n",
        "for intersects in words1.intersection(words2).collect():\n",
        "    print(intersects)"
      ],
      "execution_count": 0,
      "outputs": [
        {
          "output_type": "stream",
          "text": [
            "hello\n",
            "peace\n",
            "world\n",
            "universe\n",
            "war\n",
            "------------------\n",
            "peace\n",
            "war\n"
          ],
          "name": "stdout"
        }
      ]
    },
    {
      "metadata": {
        "id": "F6OOkuQqwtwA",
        "colab_type": "text"
      },
      "cell_type": "markdown",
      "source": [
        "Using functions for transformation cleanse and transform an RDD"
      ]
    },
    {
      "metadata": {
        "id": "SzDtX3u-ww6P",
        "colab_type": "code",
        "outputId": "277428b3-2f9e-4993-b33b-eff41e6eed69",
        "colab": {
          "base_uri": "https://localhost:8080/",
          "height": 221
        }
      },
      "cell_type": "code",
      "source": [
        "def cleanseRDD(autoStr) :\n",
        "    if isinstance(autoStr, int) :\n",
        "        return autoStr\n",
        "    attList=autoStr.split(\",\")\n",
        "    #convert doors to a number str\n",
        "    if attList[3] == \"two\" :\n",
        "         attList[3]=\"2\"\n",
        "    elif attList[3] == \"four\" :\n",
        "         attList[3]=\"4\"\n",
        "    #Convert Drive to uppercase\n",
        "    attList[5] = attList[5].upper()\n",
        "    return \",\".join(attList)\n",
        "    \n",
        "cleanedData=autoData.map(cleanseRDD)\n",
        "\n",
        "for line in autoData.take(5):\n",
        "  print(line)\n",
        "print(\"------------------\")\n",
        "for line in cleanedData.take(5):\n",
        "  print(line)"
      ],
      "execution_count": 0,
      "outputs": [
        {
          "output_type": "stream",
          "text": [
            "MAKE,FUELTYPE,ASPIRE,DOORS,BODY,DRIVE,CYLINDERS,HP,RPM,MPG-CITY,MPG-HWY,PRICE\n",
            "subaru,gas,std,two,hatchback,fwd,four,69,4900,31,36,5118\n",
            "chevrolet,gas,std,two,hatchback,fwd,three,48,5100,47,53,5151\n",
            "mazda,gas,std,two,hatchback,fwd,four,68,5000,30,31,5195\n",
            "toyota,gas,std,two,hatchback,fwd,four,62,4800,35,39,5348\n",
            "------------------\n",
            "MAKE,FUELTYPE,ASPIRE,DOORS,BODY,DRIVE,CYLINDERS,HP,RPM,MPG-CITY,MPG-HWY,PRICE\n",
            "subaru,gas,std,2,hatchback,FWD,four,69,4900,31,36,5118\n",
            "chevrolet,gas,std,2,hatchback,FWD,three,48,5100,47,53,5151\n",
            "mazda,gas,std,2,hatchback,FWD,four,68,5000,30,31,5195\n",
            "toyota,gas,std,2,hatchback,FWD,four,62,4800,35,39,5348\n"
          ],
          "name": "stdout"
        }
      ]
    },
    {
      "metadata": {
        "id": "nwjZOlOux4Wg",
        "colab_type": "text"
      },
      "cell_type": "markdown",
      "source": [
        "# **Actions**"
      ]
    },
    {
      "metadata": {
        "id": "8ijQ4WqGyCJf",
        "colab_type": "text"
      },
      "cell_type": "markdown",
      "source": [
        "Reduce - compute the sum"
      ]
    },
    {
      "metadata": {
        "id": "0Kx0eC3PyKRn",
        "colab_type": "code",
        "outputId": "c8137824-3d92-4632-c175-0339ec827a46",
        "colab": {
          "base_uri": "https://localhost:8080/",
          "height": 33
        }
      },
      "cell_type": "code",
      "source": [
        "collData.reduce(lambda x,y: x+y)"
      ],
      "execution_count": 0,
      "outputs": [
        {
          "output_type": "execute_result",
          "data": {
            "text/plain": [
              "28"
            ]
          },
          "metadata": {
            "tags": []
          },
          "execution_count": 47
        }
      ]
    },
    {
      "metadata": {
        "id": "Kfp1J_c4yNLH",
        "colab_type": "text"
      },
      "cell_type": "markdown",
      "source": [
        "Find the shortest line"
      ]
    },
    {
      "metadata": {
        "id": "YXdte9fTyRMG",
        "colab_type": "code",
        "outputId": "9cf29774-7719-4e15-c0cc-98062b33402d",
        "colab": {
          "base_uri": "https://localhost:8080/",
          "height": 33
        }
      },
      "cell_type": "code",
      "source": [
        "autoData.reduce(lambda x,y: x if len(x) < len(y) else y)"
      ],
      "execution_count": 0,
      "outputs": [
        {
          "output_type": "execute_result",
          "data": {
            "text/plain": [
              "'bmw,gas,std,two,sedan,rwd,six,182,5400,16,22,41315'"
            ]
          },
          "metadata": {
            "tags": []
          },
          "execution_count": 48
        }
      ]
    },
    {
      "metadata": {
        "id": "ACck2ikpyY4v",
        "colab_type": "text"
      },
      "cell_type": "markdown",
      "source": [
        "Use a function to perform reduce"
      ]
    },
    {
      "metadata": {
        "id": "vzr2zH84yWTe",
        "colab_type": "code",
        "colab": {}
      },
      "cell_type": "code",
      "source": [
        "def getMPG( autoStr) :\n",
        "    if isinstance(autoStr, int) :\n",
        "        return autoStr\n",
        "    attList=autoStr.split(\",\")\n",
        "    if attList[9].isdigit() :\n",
        "        return int(attList[9])\n",
        "    else:\n",
        "        return 0"
      ],
      "execution_count": 0,
      "outputs": []
    },
    {
      "metadata": {
        "id": "6ubhMCvgykTm",
        "colab_type": "text"
      },
      "cell_type": "markdown",
      "source": [
        "Find average MPG-City for all cars    "
      ]
    },
    {
      "metadata": {
        "id": "Q9CdCKS7ypbj",
        "colab_type": "code",
        "outputId": "e2213b46-8cdd-4a92-8d14-7205b6b53e71",
        "colab": {
          "base_uri": "https://localhost:8080/",
          "height": 33
        }
      },
      "cell_type": "code",
      "source": [
        "autoData.reduce(lambda x,y : getMPG(x) + getMPG(y)) \\\n",
        "    / (autoData.count()-1.0)  # account for header line"
      ],
      "execution_count": 0,
      "outputs": [
        {
          "output_type": "execute_result",
          "data": {
            "text/plain": [
              "25.15228426395939"
            ]
          },
          "metadata": {
            "tags": []
          },
          "execution_count": 51
        }
      ]
    },
    {
      "metadata": {
        "id": "FOBRfxEZynkH",
        "colab_type": "text"
      },
      "cell_type": "markdown",
      "source": [
        "# **Working with Key/Value RDDs**"
      ]
    },
    {
      "metadata": {
        "id": "yf4VKZwkzACX",
        "colab_type": "text"
      },
      "cell_type": "markdown",
      "source": [
        "Create a KV RDD of auto Brand and Horsepower"
      ]
    },
    {
      "metadata": {
        "id": "LbyvsFzTy_k-",
        "colab_type": "code",
        "outputId": "f7a2b771-4a4b-4961-f989-f357bc2c743a",
        "colab": {
          "base_uri": "https://localhost:8080/",
          "height": 284
        }
      },
      "cell_type": "code",
      "source": [
        "cylData = autoData.map( lambda x: ( x.split(\",\")[0], \\\n",
        "    x.split(\",\")[7]))\n",
        "\n",
        "for line in cylData.take(5):\n",
        "  print(line)\n",
        "print(\"-------------------\")\n",
        "for line in cylData.keys().take(10):\n",
        "  print(line)"
      ],
      "execution_count": 0,
      "outputs": [
        {
          "output_type": "stream",
          "text": [
            "('MAKE', 'HP')\n",
            "('subaru', '69')\n",
            "('chevrolet', '48')\n",
            "('mazda', '68')\n",
            "('toyota', '62')\n",
            "-------------------\n",
            "MAKE\n",
            "subaru\n",
            "chevrolet\n",
            "mazda\n",
            "toyota\n",
            "mitsubishi\n",
            "honda\n",
            "nissan\n",
            "dodge\n",
            "plymouth\n"
          ],
          "name": "stdout"
        }
      ]
    },
    {
      "metadata": {
        "id": "7u4T4DzdzoKv",
        "colab_type": "text"
      },
      "cell_type": "markdown",
      "source": [
        "Remove header row"
      ]
    },
    {
      "metadata": {
        "id": "k54tObvuzqR_",
        "colab_type": "code",
        "outputId": "2f386884-ee80-40d1-eb65-56c2b3782816",
        "colab": {
          "base_uri": "https://localhost:8080/",
          "height": 100
        }
      },
      "cell_type": "code",
      "source": [
        "header = cylData.first()\n",
        "cylHPData= cylData.filter(lambda line: line != header)"
      ],
      "execution_count": 0,
      "outputs": [
        {
          "output_type": "execute_result",
          "data": {
            "text/plain": [
              "[('subaru', '69'),\n",
              " ('chevrolet', '48'),\n",
              " ('mazda', '68'),\n",
              " ('toyota', '62'),\n",
              " ('mitsubishi', '68')]"
            ]
          },
          "metadata": {
            "tags": []
          },
          "execution_count": 62
        }
      ]
    },
    {
      "metadata": {
        "id": "4dw0MHGGzvU3",
        "colab_type": "text"
      },
      "cell_type": "markdown",
      "source": [
        "Find average HP by Brand\n",
        "\n",
        "Add a count 1 to each record and then reduce to find totals of HP and counts"
      ]
    },
    {
      "metadata": {
        "id": "s_9rPtxEz1OR",
        "colab_type": "code",
        "outputId": "50e0c854-3cc2-47fe-a6bb-7ca55a43ce72",
        "colab": {
          "base_uri": "https://localhost:8080/",
          "height": 468
        }
      },
      "cell_type": "code",
      "source": [
        "addOne = cylHPData.mapValues(lambda x: (x,1))\n",
        "\n",
        "for line in addOne.take(5):\n",
        "  print(line)\n",
        "  \n",
        "print(\"-----------------------\")\n",
        "brandValues= addOne \\\n",
        "    .reduceByKey(lambda x, y: (int(x[0]) + int(y[0]), \\\n",
        "    x[1] + y[1])) \n",
        "\n",
        "for line in brandValues.collect():\n",
        "  print(line)"
      ],
      "execution_count": 0,
      "outputs": [
        {
          "output_type": "stream",
          "text": [
            "('subaru', ('69', 1))\n",
            "('chevrolet', ('48', 1))\n",
            "('mazda', ('68', 1))\n",
            "('toyota', ('62', 1))\n",
            "('mitsubishi', ('68', 1))\n",
            "-----------------------\n",
            "('chevrolet', (188, 3))\n",
            "('mazda', (1390, 16))\n",
            "('mitsubishi', (1353, 13))\n",
            "('nissan', (1846, 18))\n",
            "('dodge', (675, 8))\n",
            "('plymouth', (607, 7))\n",
            "('saab', (760, 6))\n",
            "('volvo', (1408, 11))\n",
            "('alfa-romero', (376, 3))\n",
            "('mercedes-benz', (1170, 8))\n",
            "('jaguar', (614, 3))\n",
            "('subaru', (1035, 12))\n",
            "('toyota', (2969, 32))\n",
            "('honda', (1043, 13))\n",
            "('isuzu', (168, 2))\n",
            "('volkswagen', (973, 12))\n",
            "('peugot', (1098, 11))\n",
            "('audi', (687, 6))\n",
            "('bmw', (1111, 8))\n",
            "('mercury', ('175', 1))\n",
            "('porsche', (764, 4))\n"
          ],
          "name": "stdout"
        }
      ]
    },
    {
      "metadata": {
        "id": "Xfm2zg-j10gm",
        "colab_type": "text"
      },
      "cell_type": "markdown",
      "source": [
        "Find average by dividing HP total by count total"
      ]
    },
    {
      "metadata": {
        "id": "nI3dHclL13L2",
        "colab_type": "code",
        "outputId": "ac285cd4-3f94-42e3-8552-48c8eeac00e9",
        "colab": {
          "base_uri": "https://localhost:8080/",
          "height": 368
        }
      },
      "cell_type": "code",
      "source": [
        "brandValues.mapValues(lambda x: int(x[0])/int(x[1])). \\\n",
        "    collect()"
      ],
      "execution_count": 0,
      "outputs": [
        {
          "output_type": "execute_result",
          "data": {
            "text/plain": [
              "[('chevrolet', 62.666666666666664),\n",
              " ('mazda', 86.875),\n",
              " ('mitsubishi', 104.07692307692308),\n",
              " ('nissan', 102.55555555555556),\n",
              " ('dodge', 84.375),\n",
              " ('plymouth', 86.71428571428571),\n",
              " ('saab', 126.66666666666667),\n",
              " ('volvo', 128.0),\n",
              " ('alfa-romero', 125.33333333333333),\n",
              " ('mercedes-benz', 146.25),\n",
              " ('jaguar', 204.66666666666666),\n",
              " ('subaru', 86.25),\n",
              " ('toyota', 92.78125),\n",
              " ('honda', 80.23076923076923),\n",
              " ('isuzu', 84.0),\n",
              " ('volkswagen', 81.08333333333333),\n",
              " ('peugot', 99.81818181818181),\n",
              " ('audi', 114.5),\n",
              " ('bmw', 138.875),\n",
              " ('mercury', 175.0),\n",
              " ('porsche', 191.0)]"
            ]
          },
          "metadata": {
            "tags": []
          },
          "execution_count": 71
        }
      ]
    },
    {
      "metadata": {
        "id": "prognoEK2CR1",
        "colab_type": "text"
      },
      "cell_type": "markdown",
      "source": [
        "# **Advanced Spark : Accumulators & Broadcast Variables**"
      ]
    },
    {
      "metadata": {
        "id": "7JsR7JlV2XRl",
        "colab_type": "text"
      },
      "cell_type": "markdown",
      "source": [
        "Function that splits the line as well as counts sedans and hatchbacks\n",
        "\n",
        "Speed optimization"
      ]
    },
    {
      "metadata": {
        "id": "PTFdvq7t2bnB",
        "colab_type": "text"
      },
      "cell_type": "markdown",
      "source": [
        "Initialize accumulator"
      ]
    },
    {
      "metadata": {
        "id": "wrAsLqWF2P0W",
        "colab_type": "code",
        "colab": {}
      },
      "cell_type": "code",
      "source": [
        "sedanCount = sc.accumulator(0)\n",
        "hatchbackCount =sc.accumulator(0)"
      ],
      "execution_count": 0,
      "outputs": []
    },
    {
      "metadata": {
        "id": "bmEnUg1R2fFG",
        "colab_type": "text"
      },
      "cell_type": "markdown",
      "source": [
        "Set Broadcast variable"
      ]
    },
    {
      "metadata": {
        "id": "Hw1hOk7n2gCd",
        "colab_type": "code",
        "colab": {}
      },
      "cell_type": "code",
      "source": [
        "sedanText=sc.broadcast(\"sedan\")\n",
        "hatchbackText=sc.broadcast(\"hatchback\")"
      ],
      "execution_count": 0,
      "outputs": []
    },
    {
      "metadata": {
        "id": "GL4ETdZf2uxV",
        "colab_type": "code",
        "colab": {}
      },
      "cell_type": "code",
      "source": [
        "def splitLines(line) :\n",
        "\n",
        "    global sedanCount\n",
        "    global hatchbackCount\n",
        "\n",
        "    #Use broadcast variable to do comparison and set accumulator\n",
        "    if sedanText.value in line:\n",
        "        sedanCount +=1\n",
        "    if hatchbackText.value in line:\n",
        "        hatchbackCount +=1\n",
        "        \n",
        "    return line.split(\",\")"
      ],
      "execution_count": 0,
      "outputs": []
    },
    {
      "metadata": {
        "id": "QJn65_3v2xEf",
        "colab_type": "text"
      },
      "cell_type": "markdown",
      "source": [
        "Do the map"
      ]
    },
    {
      "metadata": {
        "id": "Hoj1PZGe2zI1",
        "colab_type": "code",
        "colab": {}
      },
      "cell_type": "code",
      "source": [
        "splitData=autoData.map(splitLines)"
      ],
      "execution_count": 0,
      "outputs": []
    },
    {
      "metadata": {
        "id": "Lvmp0zPD20nt",
        "colab_type": "text"
      },
      "cell_type": "markdown",
      "source": [
        "Make it execute the map (lazy execution)"
      ]
    },
    {
      "metadata": {
        "id": "29zFsTyn23vu",
        "colab_type": "code",
        "outputId": "22871d41-9097-4a64-f535-880f36a97c87",
        "colab": {
          "base_uri": "https://localhost:8080/",
          "height": 33
        }
      },
      "cell_type": "code",
      "source": [
        "splitData.count()\n",
        "print(sedanCount, hatchbackCount)"
      ],
      "execution_count": 0,
      "outputs": [
        {
          "output_type": "stream",
          "text": [
            "92 67\n"
          ],
          "name": "stdout"
        }
      ]
    },
    {
      "metadata": {
        "id": "RlgfoiWu2LqF",
        "colab_type": "text"
      },
      "cell_type": "markdown",
      "source": [
        "# **Advanced Spark : Partitions**"
      ]
    },
    {
      "metadata": {
        "id": "FGeipXht3nz1",
        "colab_type": "code",
        "outputId": "b22bda0d-258e-473d-a4d1-35b9618f6fea",
        "colab": {
          "base_uri": "https://localhost:8080/",
          "height": 33
        }
      },
      "cell_type": "code",
      "source": [
        "collData.getNumPartitions()"
      ],
      "execution_count": 0,
      "outputs": [
        {
          "output_type": "execute_result",
          "data": {
            "text/plain": [
              "2"
            ]
          },
          "metadata": {
            "tags": []
          },
          "execution_count": 77
        }
      ]
    },
    {
      "metadata": {
        "id": "CcifFPav3qs1",
        "colab_type": "text"
      },
      "cell_type": "markdown",
      "source": [
        "Specify no. of partitions."
      ]
    },
    {
      "metadata": {
        "id": "Wf6tY7xs3sWV",
        "colab_type": "code",
        "outputId": "d544d0cb-8885-4663-964c-0e1c14634977",
        "colab": {
          "base_uri": "https://localhost:8080/",
          "height": 33
        }
      },
      "cell_type": "code",
      "source": [
        "collData=sc.parallelize([3,5,4,7,4],4)\n",
        "collData.cache()\n",
        "collData.count()\n"
      ],
      "execution_count": 0,
      "outputs": [
        {
          "output_type": "execute_result",
          "data": {
            "text/plain": [
              "5"
            ]
          },
          "metadata": {
            "tags": []
          },
          "execution_count": 79
        }
      ]
    },
    {
      "metadata": {
        "id": "8L547pNl31f1",
        "colab_type": "code",
        "outputId": "339383bc-fcc4-4c45-9bdf-2a751eb91ad1",
        "colab": {
          "base_uri": "https://localhost:8080/",
          "height": 33
        }
      },
      "cell_type": "code",
      "source": [
        "collData.getNumPartitions()"
      ],
      "execution_count": 0,
      "outputs": [
        {
          "output_type": "execute_result",
          "data": {
            "text/plain": [
              "4"
            ]
          },
          "metadata": {
            "tags": []
          },
          "execution_count": 80
        }
      ]
    },
    {
      "metadata": {
        "id": "x5bgTo8O4K0-",
        "colab_type": "text"
      },
      "cell_type": "markdown",
      "source": [
        "# A practicar"
      ]
    },
    {
      "metadata": {
        "id": "2FOFBxaL4YYF",
        "colab_type": "text"
      },
      "cell_type": "markdown",
      "source": [
        "1. Your course resource has a CSV file \"iris.csv\". \n",
        "Load that file into an RDD called irisRDD\n",
        "Cache the RDD and count the number of lines\n",
        "\n",
        "2. Create a new RDD from irisRDD with the following changes\n",
        "     - The name of the flower should be all capitals\n",
        "     - The numeric values should be rounded off (as integers)\n",
        "     \n",
        "3. Filter irisRDD for lines that contain \"versicolor\" and count them.\n",
        "\n",
        "4. Find the average Sepal.Length for all flowers in the irisRDD.\n",
        "\n",
        "5. Convert the irisRDD into a key-value RDD with Species as key and Sepal.Length\n",
        "as the value.\n",
        "Then find the maximum of Sepal.Length by each Species.\n",
        "\n",
        "6. Find the number of records in irisRDD, whose Sepal.Length is \n",
        "greater than the Average Sepal Length we found in the earlier practice\n",
        "Note: Use Broadcast and Accumulator variables for this exercise."
      ]
    },
    {
      "metadata": {
        "id": "fTvLQwt-4UtN",
        "colab_type": "code",
        "colab": {}
      },
      "cell_type": "code",
      "source": [
        ""
      ],
      "execution_count": 0,
      "outputs": []
    },
    {
      "metadata": {
        "id": "Jfpp8dDh48CX",
        "colab_type": "code",
        "colab": {}
      },
      "cell_type": "code",
      "source": [
        ""
      ],
      "execution_count": 0,
      "outputs": []
    }
  ]
}