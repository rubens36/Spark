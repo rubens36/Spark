{
  "nbformat": 4,
  "nbformat_minor": 0,
  "metadata": {
    "colab": {
      "name": "Decision Tree.ipynb",
      "version": "0.3.2",
      "provenance": [],
      "collapsed_sections": [
        "Az6Ar6-AOp-v",
        "Advcl4o1RFPv",
        "djiTIzO1RptO",
        "VXVYBot8SvcG"
      ]
    },
    "kernelspec": {
      "name": "python3",
      "display_name": "Python 3"
    }
  },
  "cells": [
    {
      "cell_type": "markdown",
      "metadata": {
        "id": "WUloGqa1Nr6I",
        "colab_type": "text"
      },
      "source": [
        "# **Running Pyspark in Colab**\n",
        "\n",
        "To run spark in Colab, we need to first install all the dependencies in Colab environment i.e. Apache Spark 2.3.2 with hadoop 2.7, Java 8 and Findspark to locate the spark in the system. The tools installation can be carried out inside the Jupyter Notebook of the Colab. One important note is that if you are new in Spark, it is better to avoid Spark 2.4.0 version since some people have already complained about its compatibility issue with python. \n",
        "Follow the steps to install the dependencies:"
      ]
    },
    {
      "cell_type": "code",
      "metadata": {
        "id": "Oh_WN1eLNnmw",
        "colab_type": "code",
        "colab": {}
      },
      "source": [
        "!apt-get install openjdk-8-jdk-headless -qq > /dev/null\n",
        "!wget -q http://apache.osuosl.org/spark/spark-2.3.3/spark-2.3.3-bin-hadoop2.7.tgz\n",
        "!tar xf spark-2.3.3-bin-hadoop2.7.tgz\n",
        "!pip install -q findspark"
      ],
      "execution_count": 0,
      "outputs": []
    },
    {
      "cell_type": "markdown",
      "metadata": {
        "id": "8YpGn_WdN0po",
        "colab_type": "text"
      },
      "source": [
        "Now that you installed Spark and Java in Colab, it is time to set the environment path which enables you to run Pyspark in your Colab environment. Set the location of Java and Spark by running the following code:"
      ]
    },
    {
      "cell_type": "code",
      "metadata": {
        "id": "91_GsyAZN2iA",
        "colab_type": "code",
        "colab": {}
      },
      "source": [
        "import os\n",
        "os.environ[\"JAVA_HOME\"] = \"/usr/lib/jvm/java-8-openjdk-amd64\"\n",
        "os.environ[\"SPARK_HOME\"] = \"/content/spark-2.3.3-bin-hadoop2.7\""
      ],
      "execution_count": 0,
      "outputs": []
    },
    {
      "cell_type": "markdown",
      "metadata": {
        "id": "1YW7TCLsN46h",
        "colab_type": "text"
      },
      "source": [
        "Run a local spark session to test your installation:"
      ]
    },
    {
      "cell_type": "code",
      "metadata": {
        "id": "H6mkgMFTN51I",
        "colab_type": "code",
        "colab": {}
      },
      "source": [
        "import findspark\n",
        "findspark.init()\n",
        "from pyspark.sql import SparkSession\n",
        "from pyspark import SparkContext\n",
        "sqlSession = SparkSession.builder.master(\"local[*]\").getOrCreate()\n",
        "sc = SparkContext.getOrCreate()"
      ],
      "execution_count": 0,
      "outputs": []
    },
    {
      "cell_type": "code",
      "metadata": {
        "id": "cePjyQ60N8E_",
        "colab_type": "code",
        "outputId": "db162e56-b4de-4878-e368-9d60f86b6da9",
        "colab": {
          "base_uri": "https://localhost:8080/",
          "height": 88
        }
      },
      "source": [
        "nums = sc.parallelize([1,2,3,4])\n",
        "squared = nums.map(lambda x: x * x).collect()\n",
        "for num in squared:\n",
        "  print (num)"
      ],
      "execution_count": 4,
      "outputs": [
        {
          "output_type": "stream",
          "text": [
            "1\n",
            "4\n",
            "9\n",
            "16\n"
          ],
          "name": "stdout"
        }
      ]
    },
    {
      "cell_type": "markdown",
      "metadata": {
        "id": "HL7PqN5oN_ES",
        "colab_type": "text"
      },
      "source": [
        "Upload \"iris.csv\""
      ]
    },
    {
      "cell_type": "code",
      "metadata": {
        "id": "eS57x6fAOAxw",
        "colab_type": "code",
        "outputId": "7e3bf95f-4bf1-4ffe-bc3e-0b721cbe4920",
        "colab": {
          "resources": {
            "http://localhost:8080/nbextensions/google.colab/files.js": {
              "data": "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",
              "ok": true,
              "headers": [
                [
                  "content-type",
                  "application/javascript"
                ]
              ],
              "status": 200,
              "status_text": ""
            }
          },
          "base_uri": "https://localhost:8080/",
          "height": 92
        }
      },
      "source": [
        "from google.colab import files\n",
        "\n",
        "uploaded = files.upload()\n",
        "\n",
        "for fn in uploaded.keys():\n",
        "  print('User uploaded file \"{name}\" with length {length} bytes'.format(\n",
        "      name=fn, length=len(uploaded[fn])))"
      ],
      "execution_count": 5,
      "outputs": [
        {
          "output_type": "display_data",
          "data": {
            "text/html": [
              "\n",
              "     <input type=\"file\" id=\"files-4feaeafb-662b-4326-a194-8d4ef4b34910\" name=\"files[]\" multiple disabled />\n",
              "     <output id=\"result-4feaeafb-662b-4326-a194-8d4ef4b34910\">\n",
              "      Upload widget is only available when the cell has been executed in the\n",
              "      current browser session. Please rerun this cell to enable.\n",
              "      </output>\n",
              "      <script src=\"/nbextensions/google.colab/files.js\"></script> "
            ],
            "text/plain": [
              "<IPython.core.display.HTML object>"
            ]
          },
          "metadata": {
            "tags": []
          }
        },
        {
          "output_type": "stream",
          "text": [
            "Saving iris.csv to iris.csv\n",
            "User uploaded file \"iris.csv\" with length 3867 bytes\n"
          ],
          "name": "stdout"
        }
      ]
    },
    {
      "cell_type": "markdown",
      "metadata": {
        "id": "I4A2dkS_PkeM",
        "colab_type": "text"
      },
      "source": [
        "# **Import libraries** "
      ]
    },
    {
      "cell_type": "code",
      "metadata": {
        "id": "6i7vTwicPw6c",
        "colab_type": "code",
        "colab": {}
      },
      "source": [
        "from pyspark.sql import Row\n",
        "from pyspark.ml.feature import StringIndexer\n",
        "from pyspark.ml.linalg import Vectors\n",
        "from pyspark.ml.classification import DecisionTreeClassifier\n",
        "from pyspark.ml.evaluation import MulticlassClassificationEvaluator"
      ],
      "execution_count": 0,
      "outputs": []
    },
    {
      "cell_type": "markdown",
      "metadata": {
        "id": "Az6Ar6-AOp-v",
        "colab_type": "text"
      },
      "source": [
        "# **Load and prepare data**\n",
        "\n"
      ]
    },
    {
      "cell_type": "code",
      "metadata": {
        "id": "o9Jr6v3yOvY3",
        "colab_type": "code",
        "outputId": "2162441d-d71f-4fd1-95ff-a1749a3a95cd",
        "colab": {
          "base_uri": "https://localhost:8080/",
          "height": 35
        }
      },
      "source": [
        "irisData = sc.textFile(\"iris.csv\")\n",
        "irisData.cache()\n",
        "irisData.count()"
      ],
      "execution_count": 7,
      "outputs": [
        {
          "output_type": "execute_result",
          "data": {
            "text/plain": [
              "151"
            ]
          },
          "metadata": {
            "tags": []
          },
          "execution_count": 7
        }
      ]
    },
    {
      "cell_type": "markdown",
      "metadata": {
        "id": "jhrON_ziPHm3",
        "colab_type": "text"
      },
      "source": [
        "Remove header"
      ]
    },
    {
      "cell_type": "code",
      "metadata": {
        "id": "iUjGdWXyPFmq",
        "colab_type": "code",
        "outputId": "8f3c83ca-2584-41ee-9e16-78eda706f72c",
        "colab": {
          "base_uri": "https://localhost:8080/",
          "height": 35
        }
      },
      "source": [
        "dataLines = irisData.filter(lambda x: \"Sepal\" not in x)\n",
        "dataLines.count()"
      ],
      "execution_count": 8,
      "outputs": [
        {
          "output_type": "execute_result",
          "data": {
            "text/plain": [
              "150"
            ]
          },
          "metadata": {
            "tags": []
          },
          "execution_count": 8
        }
      ]
    },
    {
      "cell_type": "markdown",
      "metadata": {
        "id": "Advcl4o1RFPv",
        "colab_type": "text"
      },
      "source": [
        "# **Cleanup Data**"
      ]
    },
    {
      "cell_type": "markdown",
      "metadata": {
        "id": "Xrz-g1rtWNP8",
        "colab_type": "text"
      },
      "source": [
        "Default average HP"
      ]
    },
    {
      "cell_type": "code",
      "metadata": {
        "id": "RfLxJ1utWS9F",
        "colab_type": "code",
        "colab": {
          "base_uri": "https://localhost:8080/",
          "height": 126
        },
        "outputId": "d962059e-82cf-4b5a-c2d0-7c06617d68c0"
      },
      "source": [
        "parts = dataLines.map(lambda l: l.split(\",\"))\n",
        "irisMap = parts.map(lambda p: Row(SEPAL_LENGTH=float(p[0]),\\\n",
        "                                SEPAL_WIDTH=float(p[1]), \\\n",
        "                                PETAL_LENGTH=float(p[2]), \\\n",
        "                                PETAL_WIDTH=float(p[3]), \\\n",
        "                                SPECIES=p[4]))\n",
        "irisMap.take(5)"
      ],
      "execution_count": 16,
      "outputs": [
        {
          "output_type": "execute_result",
          "data": {
            "text/plain": [
              "[Row(PETAL_LENGTH=1.4, PETAL_WIDTH=0.2, SEPAL_LENGTH=5.1, SEPAL_WIDTH=3.5, SPECIES='setosa'),\n",
              " Row(PETAL_LENGTH=1.4, PETAL_WIDTH=0.2, SEPAL_LENGTH=4.9, SEPAL_WIDTH=3.0, SPECIES='setosa'),\n",
              " Row(PETAL_LENGTH=1.3, PETAL_WIDTH=0.2, SEPAL_LENGTH=4.7, SEPAL_WIDTH=3.2, SPECIES='setosa'),\n",
              " Row(PETAL_LENGTH=1.5, PETAL_WIDTH=0.2, SEPAL_LENGTH=4.6, SEPAL_WIDTH=3.1, SPECIES='setosa'),\n",
              " Row(PETAL_LENGTH=1.4, PETAL_WIDTH=0.2, SEPAL_LENGTH=5.0, SEPAL_WIDTH=3.6, SPECIES='setosa')]"
            ]
          },
          "metadata": {
            "tags": []
          },
          "execution_count": 16
        }
      ]
    },
    {
      "cell_type": "markdown",
      "metadata": {
        "id": "suOPeMRZWXjD",
        "colab_type": "text"
      },
      "source": [
        "Clean data function"
      ]
    },
    {
      "cell_type": "code",
      "metadata": {
        "id": "LBU3IDHRPaQZ",
        "colab_type": "code",
        "colab": {
          "base_uri": "https://localhost:8080/",
          "height": 55
        },
        "outputId": "7793b740-b985-4140-a06e-5369d73d45a4"
      },
      "source": [
        "irisDf = sqlSession.createDataFrame(irisMap)\n",
        "irisDf.cache()"
      ],
      "execution_count": 18,
      "outputs": [
        {
          "output_type": "execute_result",
          "data": {
            "text/plain": [
              "DataFrame[PETAL_LENGTH: double, PETAL_WIDTH: double, SEPAL_LENGTH: double, SEPAL_WIDTH: double, SPECIES: string]"
            ]
          },
          "metadata": {
            "tags": []
          },
          "execution_count": 18
        }
      ]
    },
    {
      "cell_type": "code",
      "metadata": {
        "id": "UeMxH72pRSiR",
        "colab_type": "code",
        "outputId": "c99fb495-0a6a-4bc9-a84c-065a67f8d514",
        "colab": {
          "base_uri": "https://localhost:8080/",
          "height": 197
        }
      },
      "source": [
        "stringIndexer = StringIndexer(inputCol=\"SPECIES\", outputCol=\"IND_SPECIES\")\n",
        "si_model = stringIndexer.fit(irisDf)\n",
        "irisNormDf = si_model.transform(irisDf)\n",
        "\n",
        "irisNormDf.select(\"SPECIES\",\"IND_SPECIES\").distinct().show()\n",
        "irisNormDf.cache()"
      ],
      "execution_count": 20,
      "outputs": [
        {
          "output_type": "stream",
          "text": [
            "+----------+-----------+\n",
            "|   SPECIES|IND_SPECIES|\n",
            "+----------+-----------+\n",
            "|versicolor|        0.0|\n",
            "|    setosa|        2.0|\n",
            "| virginica|        1.0|\n",
            "+----------+-----------+\n",
            "\n"
          ],
          "name": "stdout"
        },
        {
          "output_type": "execute_result",
          "data": {
            "text/plain": [
              "DataFrame[PETAL_LENGTH: double, PETAL_WIDTH: double, SEPAL_LENGTH: double, SEPAL_WIDTH: double, SPECIES: string, IND_SPECIES: double]"
            ]
          },
          "metadata": {
            "tags": []
          },
          "execution_count": 20
        }
      ]
    },
    {
      "cell_type": "markdown",
      "metadata": {
        "id": "djiTIzO1RptO",
        "colab_type": "text"
      },
      "source": [
        "# **Data Analytics**\n"
      ]
    },
    {
      "cell_type": "code",
      "metadata": {
        "id": "0O4mDLzRRpbp",
        "colab_type": "code",
        "outputId": "811efb84-e5c5-4e33-971a-d8466afbd163",
        "colab": {
          "base_uri": "https://localhost:8080/",
          "height": 215
        }
      },
      "source": [
        "irisNormDf.describe().show()"
      ],
      "execution_count": 21,
      "outputs": [
        {
          "output_type": "stream",
          "text": [
            "+-------+------------------+------------------+------------------+------------------+---------+------------------+\n",
            "|summary|      PETAL_LENGTH|       PETAL_WIDTH|      SEPAL_LENGTH|       SEPAL_WIDTH|  SPECIES|       IND_SPECIES|\n",
            "+-------+------------------+------------------+------------------+------------------+---------+------------------+\n",
            "|  count|               150|               150|               150|               150|      150|               150|\n",
            "|   mean| 3.758000000000001|1.1993333333333331| 5.843333333333332|3.0573333333333337|     null|               1.0|\n",
            "| stddev|1.7652982332594662|0.7622376689603467|0.8280661279778634|0.4358662849366978|     null|0.8192319205190404|\n",
            "|    min|               1.0|               0.1|               4.3|               2.0|   setosa|               0.0|\n",
            "|    max|               6.9|               2.5|               7.9|               4.4|virginica|               2.0|\n",
            "+-------+------------------+------------------+------------------+------------------+---------+------------------+\n",
            "\n"
          ],
          "name": "stdout"
        }
      ]
    },
    {
      "cell_type": "code",
      "metadata": {
        "id": "H9KA7CkyRjiZ",
        "colab_type": "code",
        "outputId": "cf72173e-c5f4-4383-c91f-6fc420797691",
        "colab": {
          "base_uri": "https://localhost:8080/",
          "height": 106
        }
      },
      "source": [
        "for i in irisNormDf.columns:\n",
        "  if not isinstance(irisNormDf.select(i).take(1)[0][0], str):\n",
        "    print( \"Correlation to Species for \", i, irisNormDf.stat.corr('IND_SPECIES',i))"
      ],
      "execution_count": 25,
      "outputs": [
        {
          "output_type": "stream",
          "text": [
            "Correlation to Species for  PETAL_LENGTH -0.649241830764174\n",
            "Correlation to Species for  PETAL_WIDTH -0.5803770334306263\n",
            "Correlation to Species for  SEPAL_LENGTH -0.46003915650023686\n",
            "Correlation to Species for  SEPAL_WIDTH 0.6183715308237433\n",
            "Correlation to Species for  IND_SPECIES 1.0\n"
          ],
          "name": "stdout"
        }
      ]
    },
    {
      "cell_type": "markdown",
      "metadata": {
        "id": "VXVYBot8SvcG",
        "colab_type": "text"
      },
      "source": [
        "# **Prepare data**\n",
        "\n",
        "Transform to a Data Frame for input to Machine Learing\n",
        "\n",
        "Drop columns that are not required (low correlation)"
      ]
    },
    {
      "cell_type": "code",
      "metadata": {
        "id": "Ii_hJrGeSM3X",
        "colab_type": "code",
        "colab": {}
      },
      "source": [
        "def transformToLabeledPoint(row) :\n",
        "    lp = ( row[\"SPECIES\"], row[\"IND_SPECIES\"], \\\n",
        "                Vectors.dense([row[\"SEPAL_LENGTH\"],\\\n",
        "                        row[\"SEPAL_WIDTH\"], \\\n",
        "                        row[\"PETAL_LENGTH\"], \\\n",
        "                        row[\"PETAL_WIDTH\"]]))\n",
        "    return lp"
      ],
      "execution_count": 0,
      "outputs": []
    },
    {
      "cell_type": "code",
      "metadata": {
        "id": "IAlqtV3hajVh",
        "colab_type": "code",
        "outputId": "9035f2f9-30d3-4acd-994f-5ccb249fc634",
        "colab": {
          "base_uri": "https://localhost:8080/",
          "height": 319
        }
      },
      "source": [
        "irisLp = irisNormDf.rdd.map(transformToLabeledPoint)\n",
        "irisLpDf = sqlSession.createDataFrame(irisLp,[\"species\",\"label\", \"features\"])\n",
        "irisLpDf.select(\"species\",\"label\",\"features\").show(10)\n",
        "irisLpDf.cache()"
      ],
      "execution_count": 29,
      "outputs": [
        {
          "output_type": "stream",
          "text": [
            "+-------+-----+-----------------+\n",
            "|species|label|         features|\n",
            "+-------+-----+-----------------+\n",
            "| setosa|  2.0|[5.1,3.5,1.4,0.2]|\n",
            "| setosa|  2.0|[4.9,3.0,1.4,0.2]|\n",
            "| setosa|  2.0|[4.7,3.2,1.3,0.2]|\n",
            "| setosa|  2.0|[4.6,3.1,1.5,0.2]|\n",
            "| setosa|  2.0|[5.0,3.6,1.4,0.2]|\n",
            "| setosa|  2.0|[5.4,3.9,1.7,0.4]|\n",
            "| setosa|  2.0|[4.6,3.4,1.4,0.3]|\n",
            "| setosa|  2.0|[5.0,3.4,1.5,0.2]|\n",
            "| setosa|  2.0|[4.4,2.9,1.4,0.2]|\n",
            "| setosa|  2.0|[4.9,3.1,1.5,0.1]|\n",
            "+-------+-----+-----------------+\n",
            "only showing top 10 rows\n",
            "\n"
          ],
          "name": "stdout"
        },
        {
          "output_type": "execute_result",
          "data": {
            "text/plain": [
              "DataFrame[species: string, label: double, features: vector]"
            ]
          },
          "metadata": {
            "tags": []
          },
          "execution_count": 29
        }
      ]
    },
    {
      "cell_type": "markdown",
      "metadata": {
        "id": "xLxd1-s9S8Et",
        "colab_type": "text"
      },
      "source": [
        "# **Decision Tree**"
      ]
    },
    {
      "cell_type": "markdown",
      "metadata": {
        "id": "jM8JO-TXbATg",
        "colab_type": "text"
      },
      "source": [
        "Split into training and testing data"
      ]
    },
    {
      "cell_type": "code",
      "metadata": {
        "id": "789rLG-GS7Aq",
        "colab_type": "code",
        "outputId": "40c60278-f081-4ce3-9a0e-d255c5fc3ae5",
        "colab": {
          "base_uri": "https://localhost:8080/",
          "height": 337
        }
      },
      "source": [
        "(trainingData, testData) = irisLpDf.randomSplit([0.9, 0.1])\n",
        "print(trainingData.count())\n",
        "print(testData.count())\n",
        "testData.show()"
      ],
      "execution_count": 31,
      "outputs": [
        {
          "output_type": "stream",
          "text": [
            "139\n",
            "11\n",
            "+----------+-----+-----------------+\n",
            "|   species|label|         features|\n",
            "+----------+-----+-----------------+\n",
            "|    setosa|  2.0|[5.1,3.8,1.9,0.4]|\n",
            "|versicolor|  0.0|[5.1,2.5,3.0,1.1]|\n",
            "|versicolor|  0.0|[5.8,2.6,4.0,1.2]|\n",
            "|versicolor|  0.0|[6.1,3.0,4.6,1.4]|\n",
            "| virginica|  1.0|[5.9,3.0,5.1,1.8]|\n",
            "| virginica|  1.0|[6.1,3.0,4.9,1.8]|\n",
            "| virginica|  1.0|[6.4,2.8,5.6,2.1]|\n",
            "| virginica|  1.0|[6.4,2.8,5.6,2.2]|\n",
            "| virginica|  1.0|[6.7,2.5,5.8,1.8]|\n",
            "| virginica|  1.0|[6.8,3.2,5.9,2.3]|\n",
            "| virginica|  1.0|[7.2,3.6,6.1,2.5]|\n",
            "+----------+-----+-----------------+\n",
            "\n"
          ],
          "name": "stdout"
        }
      ]
    },
    {
      "cell_type": "markdown",
      "metadata": {
        "id": "kj8fHqx_bJYx",
        "colab_type": "text"
      },
      "source": [
        "Build the model on training data"
      ]
    },
    {
      "cell_type": "code",
      "metadata": {
        "id": "k-fj5rBFbLC5",
        "colab_type": "code",
        "colab": {
          "base_uri": "https://localhost:8080/",
          "height": 52
        },
        "outputId": "a0f41ab4-458e-4e6d-9b7a-7e8b4d223bde"
      },
      "source": [
        "dtClassifer = DecisionTreeClassifier(maxDepth=2, labelCol=\"label\",\\\n",
        "                featuresCol=\"features\")\n",
        "dtModel = dtClassifer.fit(trainingData)\n",
        "\n",
        "print(dtModel.numNodes)\n",
        "print(dtModel.depth)"
      ],
      "execution_count": 33,
      "outputs": [
        {
          "output_type": "stream",
          "text": [
            "5\n",
            "2\n"
          ],
          "name": "stdout"
        }
      ]
    },
    {
      "cell_type": "markdown",
      "metadata": {
        "id": "Ajsd9NzwbPOf",
        "colab_type": "text"
      },
      "source": [
        "Print the metrics"
      ]
    },
    {
      "cell_type": "code",
      "metadata": {
        "id": "G_Ue5AEkbRHA",
        "colab_type": "code",
        "outputId": "29005574-6c7d-4535-c444-f74ebe1f8a51",
        "colab": {
          "base_uri": "https://localhost:8080/",
          "height": 301
        }
      },
      "source": [
        "predictions = dtModel.transform(testData)\n",
        "predictions.select(\"prediction\",\"species\",\"label\").show()"
      ],
      "execution_count": 34,
      "outputs": [
        {
          "output_type": "stream",
          "text": [
            "+----------+----------+-----+\n",
            "|prediction|   species|label|\n",
            "+----------+----------+-----+\n",
            "|       2.0|    setosa|  2.0|\n",
            "|       0.0|versicolor|  0.0|\n",
            "|       0.0|versicolor|  0.0|\n",
            "|       0.0|versicolor|  0.0|\n",
            "|       1.0| virginica|  1.0|\n",
            "|       1.0| virginica|  1.0|\n",
            "|       1.0| virginica|  1.0|\n",
            "|       1.0| virginica|  1.0|\n",
            "|       1.0| virginica|  1.0|\n",
            "|       1.0| virginica|  1.0|\n",
            "|       1.0| virginica|  1.0|\n",
            "+----------+----------+-----+\n",
            "\n"
          ],
          "name": "stdout"
        }
      ]
    },
    {
      "cell_type": "markdown",
      "metadata": {
        "id": "jd-4lXfObfEA",
        "colab_type": "text"
      },
      "source": [
        "Predict on the test data"
      ]
    },
    {
      "cell_type": "code",
      "metadata": {
        "id": "xSpWZGfVbgAx",
        "colab_type": "code",
        "outputId": "814be9e8-f6e0-4221-ffe4-f321af2e2f2d",
        "colab": {
          "base_uri": "https://localhost:8080/",
          "height": 468
        }
      },
      "source": [
        "predictions = lrModel.transform(testData)\n",
        "predictions.select(\"prediction\",\"label\",\"features\").show()"
      ],
      "execution_count": 0,
      "outputs": [
        {
          "output_type": "stream",
          "text": [
            "+------------------+-----+-------------------+\n",
            "|        prediction|label|           features|\n",
            "+------------------+-----+-------------------+\n",
            "|11.689008866297929| 12.0|[12.5,350.0,4499.0]|\n",
            "|20.622054184255322| 13.0|[12.0,302.0,3169.0]|\n",
            "|10.697397799606009| 13.0|[13.0,360.0,4654.0]|\n",
            "|14.944383082391145| 13.0|[14.0,307.0,4098.0]|\n",
            "|16.641286011853204| 15.0|[12.5,318.0,3777.0]|\n",
            "|14.492106345996362| 15.0|[13.0,350.0,4082.0]|\n",
            "| 12.36515269311474| 15.0|[14.0,350.0,4440.0]|\n",
            "| 18.89257637397317| 16.0|[12.0,304.0,3433.0]|\n",
            "|14.059724642397992| 16.0|[13.0,318.0,4190.0]|\n",
            "|14.006521907573536| 17.5|[13.0,305.0,4215.0]|\n",
            "|21.121434179238324| 18.0|[15.5,232.0,3288.0]|\n",
            "|20.353254687046945| 22.0|[14.5,250.0,3353.0]|\n",
            "| 27.93478848046246| 22.0|[16.0,122.0,2395.0]|\n",
            "|27.146140743633442| 24.0|[15.0,120.0,2489.0]|\n",
            "|27.025802538367373| 25.0|[17.0,140.0,2542.0]|\n",
            "|27.980314976664065| 26.0|[15.5,108.0,2391.0]|\n",
            "| 32.00926191163107| 26.0| [21.0,97.0,1950.0]|\n",
            "|31.793126344515393| 29.0| [22.2,85.0,2035.0]|\n",
            "| 32.98435630529222| 31.0| [19.0,71.0,1773.0]|\n",
            "| 31.39161966258009| 32.0| [19.0,83.0,2003.0]|\n",
            "+------------------+-----+-------------------+\n",
            "only showing top 20 rows\n",
            "\n"
          ],
          "name": "stdout"
        }
      ]
    },
    {
      "cell_type": "markdown",
      "metadata": {
        "id": "7w8D6Q_RbjGY",
        "colab_type": "text"
      },
      "source": [
        "Evaluate accuracy"
      ]
    },
    {
      "cell_type": "code",
      "metadata": {
        "id": "6mES9ut_blMi",
        "colab_type": "code",
        "outputId": "72beb1f3-f805-4d2e-fc45-57b25c35f98a",
        "colab": {
          "base_uri": "https://localhost:8080/",
          "height": 35
        }
      },
      "source": [
        "evaluator = MulticlassClassificationEvaluator(predictionCol=\"prediction\", \\\n",
        "                    labelCol=\"label\",metricName=\"accuracy\")\n",
        "evaluator.evaluate(predictions)"
      ],
      "execution_count": 35,
      "outputs": [
        {
          "output_type": "execute_result",
          "data": {
            "text/plain": [
              "1.0"
            ]
          },
          "metadata": {
            "tags": []
          },
          "execution_count": 35
        }
      ]
    },
    {
      "cell_type": "markdown",
      "metadata": {
        "id": "hCJn99Btf44G",
        "colab_type": "text"
      },
      "source": [
        "Confusion matrix"
      ]
    },
    {
      "cell_type": "code",
      "metadata": {
        "id": "-PwNOXItTbz9",
        "colab_type": "code",
        "colab": {
          "base_uri": "https://localhost:8080/",
          "height": 159
        },
        "outputId": "b9fc15ca-c8a0-4d13-a50b-3ac7c2895b5a"
      },
      "source": [
        "predictions.groupBy(\"label\",\"prediction\").count().show()"
      ],
      "execution_count": 36,
      "outputs": [
        {
          "output_type": "stream",
          "text": [
            "+-----+----------+-----+\n",
            "|label|prediction|count|\n",
            "+-----+----------+-----+\n",
            "|  1.0|       1.0|    7|\n",
            "|  2.0|       2.0|    1|\n",
            "|  0.0|       0.0|    3|\n",
            "+-----+----------+-----+\n",
            "\n"
          ],
          "name": "stdout"
        }
      ]
    }
  ]
}