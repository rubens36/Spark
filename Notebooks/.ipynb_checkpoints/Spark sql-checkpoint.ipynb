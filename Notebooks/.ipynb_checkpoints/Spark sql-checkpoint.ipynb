{
 "cells": [
  {
   "cell_type": "markdown",
   "metadata": {
    "colab_type": "text",
    "id": "6jfP-uLCJM50"
   },
   "source": [
    "# **Running Pyspark in Colab**\n",
    "\n",
    "To run spark in Colab, we need to first install all the dependencies in Colab environment i.e. Apache Spark 3.0.0 with hadoop 3.2, Java 11 and Findspark to locate the spark in the system. The tools installation can be carried out inside the Jupyter Notebook of the Colab.\n",
    "Follow the steps to install the dependencies:"
   ]
  },
  {
   "cell_type": "code",
   "execution_count": 0,
   "metadata": {
    "colab": {},
    "colab_type": "code",
    "id": "j-X4TuGmJL99"
   },
   "outputs": [],
   "source": [
    "!apt-get install openjdk-11-jdk-headless -qq > /dev/null\n",
    "!wget -q http://apache.osuosl.org/spark/spark-3.0.0/spark-3.0.0-bin-hadoop3.2.tgz \n",
    "!tar xf spark-3.0.0-bin-hadoop3.2.tgz \n",
    "!pip install -q findspark"
   ]
  },
  {
   "cell_type": "markdown",
   "metadata": {
    "colab_type": "text",
    "id": "FzaZPa2QJcWS"
   },
   "source": [
    "Now that you installed Spark and Java in Colab, it is time to set the environment path which enables you to run Pyspark in your Colab environment. Set the location of Java and Spark by running the following code:"
   ]
  },
  {
   "cell_type": "code",
   "execution_count": 0,
   "metadata": {
    "colab": {},
    "colab_type": "code",
    "id": "6wnIBUxEJegy"
   },
   "outputs": [],
   "source": [
    "import os\n",
    "os.environ[\"JAVA_HOME\"] = \"/usr/lib/jvm/java-11-openjdk-amd64\"\n",
    "os.environ[\"SPARK_HOME\"] = \"/content/spark-3.0.0-bin-hadoop3.2\""
   ]
  },
  {
   "cell_type": "markdown",
   "metadata": {
    "colab_type": "text",
    "id": "GYue-jHoJhLS"
   },
   "source": [
    "Run a local spark session to test your installation:"
   ]
  },
  {
   "cell_type": "code",
   "execution_count": 0,
   "metadata": {
    "colab": {},
    "colab_type": "code",
    "id": "Wyd46kK4JhyS"
   },
   "outputs": [],
   "source": [
    "import findspark\n",
    "findspark.init()\n",
    "from pyspark.sql import SparkSession\n",
    "from pyspark import SparkContext\n",
    "sqlSession = SparkSession.builder.master(\"local[*]\").getOrCreate()\n",
    "sc = SparkContext.getOrCreate()"
   ]
  },
  {
   "cell_type": "code",
   "execution_count": 4,
   "metadata": {
    "colab": {
     "base_uri": "https://localhost:8080/",
     "height": 88
    },
    "colab_type": "code",
    "executionInfo": {
     "elapsed": 2435,
     "status": "ok",
     "timestamp": 1556290850215,
     "user": {
      "displayName": "Rubens SA",
      "photoUrl": "",
      "userId": "05970265970089318278"
     },
     "user_tz": 240
    },
    "id": "wkpqKVdSJjza",
    "outputId": "d10461ee-7358-426f-98e8-8a2851d44c6a"
   },
   "outputs": [
    {
     "name": "stdout",
     "output_type": "stream",
     "text": [
      "1\n",
      "4\n",
      "9\n",
      "16\n"
     ]
    }
   ],
   "source": [
    "nums = sc.parallelize([1,2,3,4])\n",
    "squared = nums.map(lambda x: x * x).collect()\n",
    "for num in squared:\n",
    "  print (num)"
   ]
  },
  {
   "cell_type": "markdown",
   "metadata": {
    "colab_type": "text",
    "id": "CIStuks2KSHK"
   },
   "source": [
    "Upload \"customerData.json\", \"auto-data.csv\""
   ]
  },
  {
   "cell_type": "code",
   "execution_count": 26,
   "metadata": {
    "colab": {
     "base_uri": "https://localhost:8080/",
     "height": 92,
     "resources": {
      "http://localhost:8080/nbextensions/google.colab/files.js": {
       "data": "Ly8gQ29weXJpZ2h0IDIwMTcgR29vZ2xlIExMQwovLwovLyBMaWNlbnNlZCB1bmRlciB0aGUgQXBhY2hlIExpY2Vuc2UsIFZlcnNpb24gMi4wICh0aGUgIkxpY2Vuc2UiKTsKLy8geW91IG1heSBub3QgdXNlIHRoaXMgZmlsZSBleGNlcHQgaW4gY29tcGxpYW5jZSB3aXRoIHRoZSBMaWNlbnNlLgovLyBZb3UgbWF5IG9idGFpbiBhIGNvcHkgb2YgdGhlIExpY2Vuc2UgYXQKLy8KLy8gICAgICBodHRwOi8vd3d3LmFwYWNoZS5vcmcvbGljZW5zZXMvTElDRU5TRS0yLjAKLy8KLy8gVW5sZXNzIHJlcXVpcmVkIGJ5IGFwcGxpY2FibGUgbGF3IG9yIGFncmVlZCB0byBpbiB3cml0aW5nLCBzb2Z0d2FyZQovLyBkaXN0cmlidXRlZCB1bmRlciB0aGUgTGljZW5zZSBpcyBkaXN0cmlidXRlZCBvbiBhbiAiQVMgSVMiIEJBU0lTLAovLyBXSVRIT1VUIFdBUlJBTlRJRVMgT1IgQ09ORElUSU9OUyBPRiBBTlkgS0lORCwgZWl0aGVyIGV4cHJlc3Mgb3IgaW1wbGllZC4KLy8gU2VlIHRoZSBMaWNlbnNlIGZvciB0aGUgc3BlY2lmaWMgbGFuZ3VhZ2UgZ292ZXJuaW5nIHBlcm1pc3Npb25zIGFuZAovLyBsaW1pdGF0aW9ucyB1bmRlciB0aGUgTGljZW5zZS4KCi8qKgogKiBAZmlsZW92ZXJ2aWV3IEhlbHBlcnMgZm9yIGdvb2dsZS5jb2xhYiBQeXRob24gbW9kdWxlLgogKi8KKGZ1bmN0aW9uKHNjb3BlKSB7CmZ1bmN0aW9uIHNwYW4odGV4dCwgc3R5bGVBdHRyaWJ1dGVzID0ge30pIHsKICBjb25zdCBlbGVtZW50ID0gZG9jdW1lbnQuY3JlYXRlRWxlbWVudCgnc3BhbicpOwogIGVsZW1lbnQudGV4dENvbnRlbnQgPSB0ZXh0OwogIGZvciAoY29uc3Qga2V5IG9mIE9iamVjdC5rZXlzKHN0eWxlQXR0cmlidXRlcykpIHsKICAgIGVsZW1lbnQuc3R5bGVba2V5XSA9IHN0eWxlQXR0cmlidXRlc1trZXldOwogIH0KICByZXR1cm4gZWxlbWVudDsKfQoKLy8gTWF4IG51bWJlciBvZiBieXRlcyB3aGljaCB3aWxsIGJlIHVwbG9hZGVkIGF0IGEgdGltZS4KY29uc3QgTUFYX1BBWUxPQURfU0laRSA9IDEwMCAqIDEwMjQ7Ci8vIE1heCBhbW91bnQgb2YgdGltZSB0byBibG9jayB3YWl0aW5nIGZvciB0aGUgdXNlci4KY29uc3QgRklMRV9DSEFOR0VfVElNRU9VVF9NUyA9IDMwICogMTAwMDsKCmZ1bmN0aW9uIF91cGxvYWRGaWxlcyhpbnB1dElkLCBvdXRwdXRJZCkgewogIGNvbnN0IHN0ZXBzID0gdXBsb2FkRmlsZXNTdGVwKGlucHV0SWQsIG91dHB1dElkKTsKICBjb25zdCBvdXRwdXRFbGVtZW50ID0gZG9jdW1lbnQuZ2V0RWxlbWVudEJ5SWQob3V0cHV0SWQpOwogIC8vIENhY2hlIHN0ZXBzIG9uIHRoZSBvdXRwdXRFbGVtZW50IHRvIG1ha2UgaXQgYXZhaWxhYmxlIGZvciB0aGUgbmV4dCBjYWxsCiAgLy8gdG8gdXBsb2FkRmlsZXNDb250aW51ZSBmcm9tIFB5dGhvbi4KICBvdXRwdXRFbGVtZW50LnN0ZXBzID0gc3RlcHM7CgogIHJldHVybiBfdXBsb2FkRmlsZXNDb250aW51ZShvdXRwdXRJZCk7Cn0KCi8vIFRoaXMgaXMgcm91Z2hseSBhbiBhc3luYyBnZW5lcmF0b3IgKG5vdCBzdXBwb3J0ZWQgaW4gdGhlIGJyb3dzZXIgeWV0KSwKLy8gd2hlcmUgdGhlcmUgYXJlIG11bHRpcGxlIGFzeW5jaHJvbm91cyBzdGVwcyBhbmQgdGhlIFB5dGhvbiBzaWRlIGlzIGdvaW5nCi8vIHRvIHBvbGwgZm9yIGNvbXBsZXRpb24gb2YgZWFjaCBzdGVwLgovLyBUaGlzIHVzZXMgYSBQcm9taXNlIHRvIGJsb2NrIHRoZSBweXRob24gc2lkZSBvbiBjb21wbGV0aW9uIG9mIGVhY2ggc3RlcCwKLy8gdGhlbiBwYXNzZXMgdGhlIHJlc3VsdCBvZiB0aGUgcHJldmlvdXMgc3RlcCBhcyB0aGUgaW5wdXQgdG8gdGhlIG5leHQgc3RlcC4KZnVuY3Rpb24gX3VwbG9hZEZpbGVzQ29udGludWUob3V0cHV0SWQpIHsKICBjb25zdCBvdXRwdXRFbGVtZW50ID0gZG9jdW1lbnQuZ2V0RWxlbWVudEJ5SWQob3V0cHV0SWQpOwogIGNvbnN0IHN0ZXBzID0gb3V0cHV0RWxlbWVudC5zdGVwczsKCiAgY29uc3QgbmV4dCA9IHN0ZXBzLm5leHQob3V0cHV0RWxlbWVudC5sYXN0UHJvbWlzZVZhbHVlKTsKICByZXR1cm4gUHJvbWlzZS5yZXNvbHZlKG5leHQudmFsdWUucHJvbWlzZSkudGhlbigodmFsdWUpID0+IHsKICAgIC8vIENhY2hlIHRoZSBsYXN0IHByb21pc2UgdmFsdWUgdG8gbWFrZSBpdCBhdmFpbGFibGUgdG8gdGhlIG5leHQKICAgIC8vIHN0ZXAgb2YgdGhlIGdlbmVyYXRvci4KICAgIG91dHB1dEVsZW1lbnQubGFzdFByb21pc2VWYWx1ZSA9IHZhbHVlOwogICAgcmV0dXJuIG5leHQudmFsdWUucmVzcG9uc2U7CiAgfSk7Cn0KCi8qKgogKiBHZW5lcmF0b3IgZnVuY3Rpb24gd2hpY2ggaXMgY2FsbGVkIGJldHdlZW4gZWFjaCBhc3luYyBzdGVwIG9mIHRoZSB1cGxvYWQKICogcHJvY2Vzcy4KICogQHBhcmFtIHtzdHJpbmd9IGlucHV0SWQgRWxlbWVudCBJRCBvZiB0aGUgaW5wdXQgZmlsZSBwaWNrZXIgZWxlbWVudC4KICogQHBhcmFtIHtzdHJpbmd9IG91dHB1dElkIEVsZW1lbnQgSUQgb2YgdGhlIG91dHB1dCBkaXNwbGF5LgogKiBAcmV0dXJuIHshSXRlcmFibGU8IU9iamVjdD59IEl0ZXJhYmxlIG9mIG5leHQgc3RlcHMuCiAqLwpmdW5jdGlvbiogdXBsb2FkRmlsZXNTdGVwKGlucHV0SWQsIG91dHB1dElkKSB7CiAgY29uc3QgaW5wdXRFbGVtZW50ID0gZG9jdW1lbnQuZ2V0RWxlbWVudEJ5SWQoaW5wdXRJZCk7CiAgaW5wdXRFbGVtZW50LmRpc2FibGVkID0gZmFsc2U7CgogIGNvbnN0IG91dHB1dEVsZW1lbnQgPSBkb2N1bWVudC5nZXRFbGVtZW50QnlJZChvdXRwdXRJZCk7CiAgb3V0cHV0RWxlbWVudC5pbm5lckhUTUwgPSAnJzsKCiAgY29uc3QgcGlja2VkUHJvbWlzZSA9IG5ldyBQcm9taXNlKChyZXNvbHZlKSA9PiB7CiAgICBpbnB1dEVsZW1lbnQuYWRkRXZlbnRMaXN0ZW5lcignY2hhbmdlJywgKGUpID0+IHsKICAgICAgcmVzb2x2ZShlLnRhcmdldC5maWxlcyk7CiAgICB9KTsKICB9KTsKCiAgY29uc3QgY2FuY2VsID0gZG9jdW1lbnQuY3JlYXRlRWxlbWVudCgnYnV0dG9uJyk7CiAgaW5wdXRFbGVtZW50LnBhcmVudEVsZW1lbnQuYXBwZW5kQ2hpbGQoY2FuY2VsKTsKICBjYW5jZWwudGV4dENvbnRlbnQgPSAnQ2FuY2VsIHVwbG9hZCc7CiAgY29uc3QgY2FuY2VsUHJvbWlzZSA9IG5ldyBQcm9taXNlKChyZXNvbHZlKSA9PiB7CiAgICBjYW5jZWwub25jbGljayA9ICgpID0+IHsKICAgICAgcmVzb2x2ZShudWxsKTsKICAgIH07CiAgfSk7CgogIC8vIENhbmNlbCB1cGxvYWQgaWYgdXNlciBoYXNuJ3QgcGlja2VkIGFueXRoaW5nIGluIHRpbWVvdXQuCiAgY29uc3QgdGltZW91dFByb21pc2UgPSBuZXcgUHJvbWlzZSgocmVzb2x2ZSkgPT4gewogICAgc2V0VGltZW91dCgoKSA9PiB7CiAgICAgIHJlc29sdmUobnVsbCk7CiAgICB9LCBGSUxFX0NIQU5HRV9USU1FT1VUX01TKTsKICB9KTsKCiAgLy8gV2FpdCBmb3IgdGhlIHVzZXIgdG8gcGljayB0aGUgZmlsZXMuCiAgY29uc3QgZmlsZXMgPSB5aWVsZCB7CiAgICBwcm9taXNlOiBQcm9taXNlLnJhY2UoW3BpY2tlZFByb21pc2UsIHRpbWVvdXRQcm9taXNlLCBjYW5jZWxQcm9taXNlXSksCiAgICByZXNwb25zZTogewogICAgICBhY3Rpb246ICdzdGFydGluZycsCiAgICB9CiAgfTsKCiAgaWYgKCFmaWxlcykgewogICAgcmV0dXJuIHsKICAgICAgcmVzcG9uc2U6IHsKICAgICAgICBhY3Rpb246ICdjb21wbGV0ZScsCiAgICAgIH0KICAgIH07CiAgfQoKICBjYW5jZWwucmVtb3ZlKCk7CgogIC8vIERpc2FibGUgdGhlIGlucHV0IGVsZW1lbnQgc2luY2UgZnVydGhlciBwaWNrcyBhcmUgbm90IGFsbG93ZWQuCiAgaW5wdXRFbGVtZW50LmRpc2FibGVkID0gdHJ1ZTsKCiAgZm9yIChjb25zdCBmaWxlIG9mIGZpbGVzKSB7CiAgICBjb25zdCBsaSA9IGRvY3VtZW50LmNyZWF0ZUVsZW1lbnQoJ2xpJyk7CiAgICBsaS5hcHBlbmQoc3BhbihmaWxlLm5hbWUsIHtmb250V2VpZ2h0OiAnYm9sZCd9KSk7CiAgICBsaS5hcHBlbmQoc3BhbigKICAgICAgICBgKCR7ZmlsZS50eXBlIHx8ICduL2EnfSkgLSAke2ZpbGUuc2l6ZX0gYnl0ZXMsIGAgKwogICAgICAgIGBsYXN0IG1vZGlmaWVkOiAkewogICAgICAgICAgICBmaWxlLmxhc3RNb2RpZmllZERhdGUgPyBmaWxlLmxhc3RNb2RpZmllZERhdGUudG9Mb2NhbGVEYXRlU3RyaW5nKCkgOgogICAgICAgICAgICAgICAgICAgICAgICAgICAgICAgICAgICAnbi9hJ30gLSBgKSk7CiAgICBjb25zdCBwZXJjZW50ID0gc3BhbignMCUgZG9uZScpOwogICAgbGkuYXBwZW5kQ2hpbGQocGVyY2VudCk7CgogICAgb3V0cHV0RWxlbWVudC5hcHBlbmRDaGlsZChsaSk7CgogICAgY29uc3QgZmlsZURhdGFQcm9taXNlID0gbmV3IFByb21pc2UoKHJlc29sdmUpID0+IHsKICAgICAgY29uc3QgcmVhZGVyID0gbmV3IEZpbGVSZWFkZXIoKTsKICAgICAgcmVhZGVyLm9ubG9hZCA9IChlKSA9PiB7CiAgICAgICAgcmVzb2x2ZShlLnRhcmdldC5yZXN1bHQpOwogICAgICB9OwogICAgICByZWFkZXIucmVhZEFzQXJyYXlCdWZmZXIoZmlsZSk7CiAgICB9KTsKICAgIC8vIFdhaXQgZm9yIHRoZSBkYXRhIHRvIGJlIHJlYWR5LgogICAgbGV0IGZpbGVEYXRhID0geWllbGQgewogICAgICBwcm9taXNlOiBmaWxlRGF0YVByb21pc2UsCiAgICAgIHJlc3BvbnNlOiB7CiAgICAgICAgYWN0aW9uOiAnY29udGludWUnLAogICAgICB9CiAgICB9OwoKICAgIC8vIFVzZSBhIGNodW5rZWQgc2VuZGluZyB0byBhdm9pZCBtZXNzYWdlIHNpemUgbGltaXRzLiBTZWUgYi82MjExNTY2MC4KICAgIGxldCBwb3NpdGlvbiA9IDA7CiAgICB3aGlsZSAocG9zaXRpb24gPCBmaWxlRGF0YS5ieXRlTGVuZ3RoKSB7CiAgICAgIGNvbnN0IGxlbmd0aCA9IE1hdGgubWluKGZpbGVEYXRhLmJ5dGVMZW5ndGggLSBwb3NpdGlvbiwgTUFYX1BBWUxPQURfU0laRSk7CiAgICAgIGNvbnN0IGNodW5rID0gbmV3IFVpbnQ4QXJyYXkoZmlsZURhdGEsIHBvc2l0aW9uLCBsZW5ndGgpOwogICAgICBwb3NpdGlvbiArPSBsZW5ndGg7CgogICAgICBjb25zdCBiYXNlNjQgPSBidG9hKFN0cmluZy5mcm9tQ2hhckNvZGUuYXBwbHkobnVsbCwgY2h1bmspKTsKICAgICAgeWllbGQgewogICAgICAgIHJlc3BvbnNlOiB7CiAgICAgICAgICBhY3Rpb246ICdhcHBlbmQnLAogICAgICAgICAgZmlsZTogZmlsZS5uYW1lLAogICAgICAgICAgZGF0YTogYmFzZTY0LAogICAgICAgIH0sCiAgICAgIH07CiAgICAgIHBlcmNlbnQudGV4dENvbnRlbnQgPQogICAgICAgICAgYCR7TWF0aC5yb3VuZCgocG9zaXRpb24gLyBmaWxlRGF0YS5ieXRlTGVuZ3RoKSAqIDEwMCl9JSBkb25lYDsKICAgIH0KICB9CgogIC8vIEFsbCBkb25lLgogIHlpZWxkIHsKICAgIHJlc3BvbnNlOiB7CiAgICAgIGFjdGlvbjogJ2NvbXBsZXRlJywKICAgIH0KICB9Owp9CgpzY29wZS5nb29nbGUgPSBzY29wZS5nb29nbGUgfHwge307CnNjb3BlLmdvb2dsZS5jb2xhYiA9IHNjb3BlLmdvb2dsZS5jb2xhYiB8fCB7fTsKc2NvcGUuZ29vZ2xlLmNvbGFiLl9maWxlcyA9IHsKICBfdXBsb2FkRmlsZXMsCiAgX3VwbG9hZEZpbGVzQ29udGludWUsCn07Cn0pKHNlbGYpOwo=",
       "headers": [
        [
         "content-type",
         "application/javascript"
        ]
       ],
       "ok": true,
       "status": 200,
       "status_text": ""
      }
     }
    },
    "colab_type": "code",
    "executionInfo": {
     "elapsed": 17639,
     "status": "ok",
     "timestamp": 1556291733570,
     "user": {
      "displayName": "Rubens SA",
      "photoUrl": "",
      "userId": "05970265970089318278"
     },
     "user_tz": 240
    },
    "id": "k4KNvijqKYXS",
    "outputId": "0efac408-2c31-455c-d3c2-479de5dd4ed6"
   },
   "outputs": [
    {
     "data": {
      "text/html": [
       "\n",
       "     <input type=\"file\" id=\"files-4b0bb97f-013c-43bc-a8a3-7ace65f2958c\" name=\"files[]\" multiple disabled />\n",
       "     <output id=\"result-4b0bb97f-013c-43bc-a8a3-7ace65f2958c\">\n",
       "      Upload widget is only available when the cell has been executed in the\n",
       "      current browser session. Please rerun this cell to enable.\n",
       "      </output>\n",
       "      <script src=\"/nbextensions/google.colab/files.js\"></script> "
      ],
      "text/plain": [
       "<IPython.core.display.HTML object>"
      ]
     },
     "metadata": {
      "tags": []
     },
     "output_type": "display_data"
    },
    {
     "name": "stdout",
     "output_type": "stream",
     "text": [
      "Saving customerData.json to customerData.json\n",
      "User uploaded file \"customerData.json\" with length 476 bytes\n"
     ]
    }
   ],
   "source": [
    "from google.colab import files\n",
    "\n",
    "uploaded = files.upload()\n",
    "\n",
    "for fn in uploaded.keys():\n",
    "  print('User uploaded file \"{name}\" with length {length} bytes'.format(\n",
    "      name=fn, length=len(uploaded[fn])))"
   ]
  },
  {
   "cell_type": "code",
   "execution_count": 0,
   "metadata": {
    "colab": {},
    "colab_type": "code",
    "id": "vFGeF0njKnO0"
   },
   "outputs": [],
   "source": [
    "!ls"
   ]
  },
  {
   "cell_type": "markdown",
   "metadata": {
    "colab_type": "text",
    "id": "vkdKMIWRJmcr"
   },
   "source": [
    "# **Working with Data Frames**"
   ]
  },
  {
   "cell_type": "markdown",
   "metadata": {
    "colab_type": "text",
    "id": "qjMbTIEzJ57K"
   },
   "source": [
    "Create a data frame from a JSON file"
   ]
  },
  {
   "cell_type": "code",
   "execution_count": 27,
   "metadata": {
    "colab": {
     "base_uri": "https://localhost:8080/",
     "height": 319
    },
    "colab_type": "code",
    "executionInfo": {
     "elapsed": 864,
     "status": "ok",
     "timestamp": 1556291743162,
     "user": {
      "displayName": "Rubens SA",
      "photoUrl": "",
      "userId": "05970265970089318278"
     },
     "user_tz": 240
    },
    "id": "GaBN-9uDKB2y",
    "outputId": "fcaa1b76-5196-46d1-a6c8-4b6a31323268"
   },
   "outputs": [
    {
     "name": "stdout",
     "output_type": "stream",
     "text": [
      "+---+------+------+-----------------+------+\n",
      "|age|deptid|gender|             name|salary|\n",
      "+---+------+------+-----------------+------+\n",
      "| 32|   100|  male|Benjamin Garrison|  3000|\n",
      "| 40|   200|  male|    Holland Drake|  4500|\n",
      "| 26|   100|  male|  Burks Velasquez|  2700|\n",
      "| 51|   100|female|    June Rutledge|  4300|\n",
      "| 44|   200|  male|    Nielsen Knapp|  6500|\n",
      "+---+------+------+-----------------+------+\n",
      "\n",
      "root\n",
      " |-- age: string (nullable = true)\n",
      " |-- deptid: long (nullable = true)\n",
      " |-- gender: string (nullable = true)\n",
      " |-- name: string (nullable = true)\n",
      " |-- salary: string (nullable = true)\n",
      "\n"
     ]
    }
   ],
   "source": [
    "empDf = sqlSession.read.json(\"customerData.json\")\n",
    "empDf.show()\n",
    "empDf.printSchema()"
   ]
  },
  {
   "cell_type": "markdown",
   "metadata": {
    "colab_type": "text",
    "id": "sdrZu7-1KDSz"
   },
   "source": [
    "Do Data Frame queries"
   ]
  },
  {
   "cell_type": "code",
   "execution_count": 11,
   "metadata": {
    "colab": {
     "base_uri": "https://localhost:8080/",
     "height": 550
    },
    "colab_type": "code",
    "executionInfo": {
     "elapsed": 5752,
     "status": "ok",
     "timestamp": 1556291055227,
     "user": {
      "displayName": "Rubens SA",
      "photoUrl": "",
      "userId": "05970265970089318278"
     },
     "user_tz": 240
    },
    "id": "wVEpQe2RKFdD",
    "outputId": "3ea2fc43-0586-4651-8878-bea8a893d790"
   },
   "outputs": [
    {
     "name": "stdout",
     "output_type": "stream",
     "text": [
      "+-----------------+\n",
      "|             name|\n",
      "+-----------------+\n",
      "|Benjamin Garrison|\n",
      "|    Holland Drake|\n",
      "|  Burks Velasquez|\n",
      "|    June Rutledge|\n",
      "|    Nielsen Knapp|\n",
      "+-----------------+\n",
      "\n",
      "+---+------+------+-------------+------+\n",
      "|age|deptid|gender|         name|salary|\n",
      "+---+------+------+-------------+------+\n",
      "| 40|   200|  male|Holland Drake|  4500|\n",
      "+---+------+------+-------------+------+\n",
      "\n",
      "+------+-----+\n",
      "|gender|count|\n",
      "+------+-----+\n",
      "|female|    1|\n",
      "|  male|    4|\n",
      "+------+-----+\n",
      "\n",
      "+------+------------------+--------+\n",
      "|deptid|       avg(salary)|max(age)|\n",
      "+------+------------------+--------+\n",
      "|   200|            5500.0|      44|\n",
      "|   100|3333.3333333333335|      51|\n",
      "+------+------------------+--------+\n",
      "\n"
     ]
    }
   ],
   "source": [
    "empDf.select(\"name\").show()\n",
    "empDf.filter(empDf[\"age\"] == 40).show()\n",
    "empDf.groupBy(\"gender\").count().show()\n",
    "empDf.groupBy(\"deptid\").\\\n",
    "    agg({\"salary\": \"avg\", \"age\": \"max\"}).show()"
   ]
  },
  {
   "cell_type": "markdown",
   "metadata": {
    "colab_type": "text",
    "id": "RkyZHhhxLocx"
   },
   "source": [
    "Create a data frame from a list"
   ]
  },
  {
   "cell_type": "code",
   "execution_count": 14,
   "metadata": {
    "colab": {
     "base_uri": "https://localhost:8080/",
     "height": 197
    },
    "colab_type": "code",
    "executionInfo": {
     "elapsed": 794,
     "status": "ok",
     "timestamp": 1556291199247,
     "user": {
      "displayName": "Rubens SA",
      "photoUrl": "",
      "userId": "05970265970089318278"
     },
     "user_tz": 240
    },
    "id": "-AKigTC0LNda",
    "outputId": "287b6f95-b71e-4a95-976a-2c91ad5e6caf"
   },
   "outputs": [
    {
     "name": "stderr",
     "output_type": "stream",
     "text": [
      "/content/spark-2.3.3-bin-hadoop2.7/python/pyspark/sql/session.py:340: UserWarning: inferring schema from dict is deprecated,please use pyspark.sql.Row instead\n",
      "  warnings.warn(\"inferring schema from dict is deprecated,\"\n"
     ]
    },
    {
     "name": "stdout",
     "output_type": "stream",
     "text": [
      "+---+-----------+\n",
      "| id|       name|\n",
      "+---+-----------+\n",
      "|100|      Sales|\n",
      "|200|Engineering|\n",
      "+---+-----------+\n",
      "\n"
     ]
    }
   ],
   "source": [
    "deptList = [{'name': 'Sales', 'id': \"100\"},\\\n",
    "     { 'name':'Engineering','id':\"200\" }]\n",
    "deptDf = sqlSession.createDataFrame(deptList)\n",
    "deptDf.show()"
   ]
  },
  {
   "cell_type": "markdown",
   "metadata": {
    "colab_type": "text",
    "id": "ehyhuiwDL5-G"
   },
   "source": [
    "Join the data frames"
   ]
  },
  {
   "cell_type": "code",
   "execution_count": 15,
   "metadata": {
    "colab": {
     "base_uri": "https://localhost:8080/",
     "height": 195
    },
    "colab_type": "code",
    "executionInfo": {
     "elapsed": 1244,
     "status": "ok",
     "timestamp": 1556291248814,
     "user": {
      "displayName": "Rubens SA",
      "photoUrl": "",
      "userId": "05970265970089318278"
     },
     "user_tz": 240
    },
    "id": "lmPPLBXiLrbx",
    "outputId": "c9826d50-ec6a-40f7-f8af-a5ce8f5157e7"
   },
   "outputs": [
    {
     "name": "stdout",
     "output_type": "stream",
     "text": [
      "+---+------+------+-----------------+------+---+-----------+\n",
      "|age|deptid|gender|             name|salary| id|       name|\n",
      "+---+------+------+-----------------+------+---+-----------+\n",
      "| 51|   100|female|    June Rutledge|  4300|100|      Sales|\n",
      "| 26|   100|  male|  Burks Velasquez|  2700|100|      Sales|\n",
      "| 32|   100|  male|Benjamin Garrison|  3000|100|      Sales|\n",
      "| 44|   200|  male|    Nielsen Knapp|  6500|200|Engineering|\n",
      "| 40|   200|  male|    Holland Drake|  4500|200|Engineering|\n",
      "+---+------+------+-----------------+------+---+-----------+\n",
      "\n"
     ]
    }
   ],
   "source": [
    "empDf.join(deptDf, empDf.deptid == deptDf.id).show()"
   ]
  },
  {
   "cell_type": "markdown",
   "metadata": {
    "colab_type": "text",
    "id": "VSzuDCCDMDYD"
   },
   "source": [
    "Cascading operations"
   ]
  },
  {
   "cell_type": "code",
   "execution_count": 16,
   "metadata": {
    "colab": {
     "base_uri": "https://localhost:8080/",
     "height": 141
    },
    "colab_type": "code",
    "executionInfo": {
     "elapsed": 2574,
     "status": "ok",
     "timestamp": 1556291288956,
     "user": {
      "displayName": "Rubens SA",
      "photoUrl": "",
      "userId": "05970265970089318278"
     },
     "user_tz": 240
    },
    "id": "KsIUFFgrL90h",
    "outputId": "c86e0dfc-40b6-4823-8762-b1661721639c"
   },
   "outputs": [
    {
     "name": "stdout",
     "output_type": "stream",
     "text": [
      "+------+-----------+--------+\n",
      "|deptid|avg(salary)|max(age)|\n",
      "+------+-----------+--------+\n",
      "|   200|     5500.0|      44|\n",
      "|   100|     3650.0|      51|\n",
      "+------+-----------+--------+\n",
      "\n"
     ]
    }
   ],
   "source": [
    "empDf.filter(empDf[\"age\"] >30).join(deptDf, \\\n",
    "        empDf.deptid == deptDf.id).\\\n",
    "        groupBy(\"deptid\").\\\n",
    "        agg({\"salary\": \"avg\", \"age\": \"max\"}).show()"
   ]
  },
  {
   "cell_type": "markdown",
   "metadata": {
    "colab_type": "text",
    "id": "QnNi_4IlMIq8"
   },
   "source": [
    "# **Creating data frames from RDD**"
   ]
  },
  {
   "cell_type": "markdown",
   "metadata": {
    "colab_type": "text",
    "id": "3Cdh27h0NCWK"
   },
   "source": [
    "Create a RDD from \"auto-data.csv\""
   ]
  },
  {
   "cell_type": "code",
   "execution_count": 0,
   "metadata": {
    "colab": {},
    "colab_type": "code",
    "id": "WEr4z8htMCHW"
   },
   "outputs": [],
   "source": [
    "from pyspark.sql import Row\n",
    "lines = sc.textFile(\"auto-data.csv\")"
   ]
  },
  {
   "cell_type": "markdown",
   "metadata": {
    "colab_type": "text",
    "id": "COCh_1xvNPDa"
   },
   "source": [
    "Remove the first line"
   ]
  },
  {
   "cell_type": "code",
   "execution_count": 20,
   "metadata": {
    "colab": {
     "base_uri": "https://localhost:8080/",
     "height": 35
    },
    "colab_type": "code",
    "executionInfo": {
     "elapsed": 887,
     "status": "ok",
     "timestamp": 1556291596656,
     "user": {
      "displayName": "Rubens SA",
      "photoUrl": "",
      "userId": "05970265970089318278"
     },
     "user_tz": 240
    },
    "id": "HMWTQi7DNOas",
    "outputId": "c2842d5a-2658-4b81-80ed-8600f7870a71"
   },
   "outputs": [
    {
     "data": {
      "text/plain": [
       "197"
      ]
     },
     "execution_count": 20,
     "metadata": {
      "tags": []
     },
     "output_type": "execute_result"
    }
   ],
   "source": [
    "datalines = lines.filter(lambda x: \"FUELTYPE\" not in x)\n",
    "datalines.count()"
   ]
  },
  {
   "cell_type": "markdown",
   "metadata": {
    "colab_type": "text",
    "id": "XdR3DPLjMpCS"
   },
   "source": [
    "Transform lines to sql Rows"
   ]
  },
  {
   "cell_type": "code",
   "execution_count": 0,
   "metadata": {
    "colab": {},
    "colab_type": "code",
    "id": "AU8xCk-OONr2"
   },
   "outputs": [],
   "source": [
    "parts = datalines.map(lambda l: l.split(\",\"))\n",
    "autoMap = parts.map(lambda p: Row(make=p[0],\\\n",
    "         body=p[4], hp=int(p[7])))"
   ]
  },
  {
   "cell_type": "markdown",
   "metadata": {
    "colab_type": "text",
    "id": "r-lB3s_YOa1D"
   },
   "source": [
    "Infer the schema, and register the DataFrame as a table."
   ]
  },
  {
   "cell_type": "code",
   "execution_count": 30,
   "metadata": {
    "colab": {
     "base_uri": "https://localhost:8080/",
     "height": 479
    },
    "colab_type": "code",
    "executionInfo": {
     "elapsed": 800,
     "status": "ok",
     "timestamp": 1556291911657,
     "user": {
      "displayName": "Rubens SA",
      "photoUrl": "",
      "userId": "05970265970089318278"
     },
     "user_tz": 240
    },
    "id": "CI5IrXFSOX9-",
    "outputId": "24be33f7-2383-4997-f4f3-fb897963f2de"
   },
   "outputs": [
    {
     "name": "stdout",
     "output_type": "stream",
     "text": [
      "+---------+---+----------+\n",
      "|     body| hp|      make|\n",
      "+---------+---+----------+\n",
      "|hatchback| 69|    subaru|\n",
      "|hatchback| 48| chevrolet|\n",
      "|hatchback| 68|     mazda|\n",
      "|hatchback| 62|    toyota|\n",
      "|hatchback| 68|mitsubishi|\n",
      "|hatchback| 60|     honda|\n",
      "|    sedan| 69|    nissan|\n",
      "|hatchback| 68|     dodge|\n",
      "|hatchback| 68|  plymouth|\n",
      "|hatchback| 68|     mazda|\n",
      "|hatchback| 68|mitsubishi|\n",
      "|hatchback| 68|     dodge|\n",
      "|hatchback| 68|  plymouth|\n",
      "|hatchback| 70| chevrolet|\n",
      "|hatchback| 62|    toyota|\n",
      "|hatchback| 68|     dodge|\n",
      "|hatchback| 58|     honda|\n",
      "|hatchback| 62|    toyota|\n",
      "|hatchback| 76|     honda|\n",
      "|    sedan| 70| chevrolet|\n",
      "+---------+---+----------+\n",
      "only showing top 20 rows\n",
      "\n"
     ]
    }
   ],
   "source": [
    "autoDf = sqlSession.createDataFrame(autoMap)\n",
    "autoDf.show()"
   ]
  },
  {
   "cell_type": "markdown",
   "metadata": {
    "colab_type": "text",
    "id": "xY9UCc-_PDN4"
   },
   "source": [
    "Creating data frames directly from CSV"
   ]
  },
  {
   "cell_type": "code",
   "execution_count": 32,
   "metadata": {
    "colab": {
     "base_uri": "https://localhost:8080/",
     "height": 499
    },
    "colab_type": "code",
    "executionInfo": {
     "elapsed": 1097,
     "status": "ok",
     "timestamp": 1556292081007,
     "user": {
      "displayName": "Rubens SA",
      "photoUrl": "",
      "userId": "05970265970089318278"
     },
     "user_tz": 240
    },
    "id": "ALKn6qjvOdQD",
    "outputId": "3285d757-f988-484c-8065-f1987df6a355"
   },
   "outputs": [
    {
     "name": "stdout",
     "output_type": "stream",
     "text": [
      "+----------+--------+------+-----+---------+-----+---------+---+----+--------+-------+-----+\n",
      "|      MAKE|FUELTYPE|ASPIRE|DOORS|     BODY|DRIVE|CYLINDERS| HP| RPM|MPG-CITY|MPG-HWY|PRICE|\n",
      "+----------+--------+------+-----+---------+-----+---------+---+----+--------+-------+-----+\n",
      "|    subaru|     gas|   std|  two|hatchback|  fwd|     four| 69|4900|      31|     36| 5118|\n",
      "| chevrolet|     gas|   std|  two|hatchback|  fwd|    three| 48|5100|      47|     53| 5151|\n",
      "|     mazda|     gas|   std|  two|hatchback|  fwd|     four| 68|5000|      30|     31| 5195|\n",
      "|    toyota|     gas|   std|  two|hatchback|  fwd|     four| 62|4800|      35|     39| 5348|\n",
      "|mitsubishi|     gas|   std|  two|hatchback|  fwd|     four| 68|5500|      37|     41| 5389|\n",
      "|     honda|     gas|   std|  two|hatchback|  fwd|     four| 60|5500|      38|     42| 5399|\n",
      "|    nissan|     gas|   std|  two|    sedan|  fwd|     four| 69|5200|      31|     37| 5499|\n",
      "|     dodge|     gas|   std|  two|hatchback|  fwd|     four| 68|5500|      37|     41| 5572|\n",
      "|  plymouth|     gas|   std|  two|hatchback|  fwd|     four| 68|5500|      37|     41| 5572|\n",
      "|     mazda|     gas|   std|  two|hatchback|  fwd|     four| 68|5000|      31|     38| 6095|\n",
      "|mitsubishi|     gas|   std|  two|hatchback|  fwd|     four| 68|5500|      31|     38| 6189|\n",
      "|     dodge|     gas|   std| four|hatchback|  fwd|     four| 68|5500|      31|     38| 6229|\n",
      "|  plymouth|     gas|   std| four|hatchback|  fwd|     four| 68|5500|      31|     38| 6229|\n",
      "| chevrolet|     gas|   std|  two|hatchback|  fwd|     four| 70|5400|      38|     43| 6295|\n",
      "|    toyota|     gas|   std|  two|hatchback|  fwd|     four| 62|4800|      31|     38| 6338|\n",
      "|     dodge|     gas|   std|  two|hatchback|  fwd|     four| 68|5500|      31|     38| 6377|\n",
      "|     honda|     gas|   std|  two|hatchback|  fwd|     four| 58|4800|      49|     54| 6479|\n",
      "|    toyota|     gas|   std| four|hatchback|  fwd|     four| 62|4800|      31|     38| 6488|\n",
      "|     honda|     gas|   std|  two|hatchback|  fwd|     four| 76|6000|      30|     34| 6529|\n",
      "| chevrolet|     gas|   std| four|    sedan|  fwd|     four| 70|5400|      38|     43| 6575|\n",
      "+----------+--------+------+-----+---------+-----+---------+---+----+--------+-------+-----+\n",
      "only showing top 20 rows\n",
      "\n"
     ]
    }
   ],
   "source": [
    "autoDf1 = sqlSession.read.csv(\"auto-data.csv\",header=True)\n",
    "autoDf1.show()"
   ]
  },
  {
   "cell_type": "markdown",
   "metadata": {
    "colab_type": "text",
    "id": "Ib0Bhi84PLT3"
   },
   "source": [
    "#Creating and working with Temp Tables"
   ]
  },
  {
   "cell_type": "markdown",
   "metadata": {
    "colab_type": "text",
    "id": "LzzSGaUCPaQD"
   },
   "source": [
    "Register a data frame as table and run SQL statements against it"
   ]
  },
  {
   "cell_type": "code",
   "execution_count": 34,
   "metadata": {
    "colab": {
     "base_uri": "https://localhost:8080/",
     "height": 177
    },
    "colab_type": "code",
    "executionInfo": {
     "elapsed": 845,
     "status": "ok",
     "timestamp": 1556292114223,
     "user": {
      "displayName": "Rubens SA",
      "photoUrl": "",
      "userId": "05970265970089318278"
     },
     "user_tz": 240
    },
    "id": "hRbprNiCPGIi",
    "outputId": "d9a0abb0-16f1-468b-beaa-9f87751dc4aa"
   },
   "outputs": [
    {
     "name": "stdout",
     "output_type": "stream",
     "text": [
      "+-----------+---+-------+\n",
      "|       body| hp|   make|\n",
      "+-----------+---+-------+\n",
      "|    hardtop|207|porsche|\n",
      "|    hardtop|207|porsche|\n",
      "|      sedan|262| jaguar|\n",
      "|convertible|207|porsche|\n",
      "+-----------+---+-------+\n",
      "\n"
     ]
    }
   ],
   "source": [
    "autoDf.createOrReplaceTempView(\"autos\")\n",
    "sqlSession.sql(\"select * from autos where hp > 200\").show()"
   ]
  },
  {
   "cell_type": "code",
   "execution_count": 35,
   "metadata": {
    "colab": {
     "base_uri": "https://localhost:8080/",
     "height": 159
    },
    "colab_type": "code",
    "executionInfo": {
     "elapsed": 747,
     "status": "ok",
     "timestamp": 1556292189822,
     "user": {
      "displayName": "Rubens SA",
      "photoUrl": "",
      "userId": "05970265970089318278"
     },
     "user_tz": 240
    },
    "id": "y-qpRm9aPOC7",
    "outputId": "cee82586-c2c7-4f20-b20c-39d23f791bd5"
   },
   "outputs": [
    {
     "name": "stdout",
     "output_type": "stream",
     "text": [
      "+---+------+------+-------------+------+\n",
      "|age|deptid|gender|         name|salary|\n",
      "+---+------+------+-------------+------+\n",
      "| 40|   200|  male|Holland Drake|  4500|\n",
      "| 51|   100|female|June Rutledge|  4300|\n",
      "| 44|   200|  male|Nielsen Knapp|  6500|\n",
      "+---+------+------+-------------+------+\n",
      "\n"
     ]
    }
   ],
   "source": [
    "empDf.createOrReplaceTempView(\"employees\")\n",
    "sqlSession.sql(\"select * from employees where salary > 4000\").show()"
   ]
  },
  {
   "cell_type": "markdown",
   "metadata": {
    "colab_type": "text",
    "id": "dlzIXamUPove"
   },
   "source": [
    "#To pandas data frame\n",
    "Note: Spark data frame is distributed across clusters pandas data frame is stored in the master node"
   ]
  },
  {
   "cell_type": "code",
   "execution_count": 36,
   "metadata": {
    "colab": {
     "base_uri": "https://localhost:8080/",
     "height": 106
    },
    "colab_type": "code",
    "executionInfo": {
     "elapsed": 824,
     "status": "ok",
     "timestamp": 1556292256631,
     "user": {
      "displayName": "Rubens SA",
      "photoUrl": "",
      "userId": "05970265970089318278"
     },
     "user_tz": 240
    },
    "id": "9HNrri1QPjsa",
    "outputId": "50991865-890e-4fb8-fe87-05c0231c4fc3"
   },
   "outputs": [
    {
     "name": "stdout",
     "output_type": "stream",
     "text": [
      "3000\n",
      "4500\n",
      "2700\n",
      "4300\n",
      "6500\n"
     ]
    }
   ],
   "source": [
    "empPands = empDf.toPandas()\n",
    "for index, row in empPands.iterrows():\n",
    "    print(row[\"salary\"])"
   ]
  },
  {
   "cell_type": "markdown",
   "metadata": {
    "colab_type": "text",
    "id": "PfX9IxuIP8bD"
   },
   "source": [
    "#Working with Databases"
   ]
  },
  {
   "cell_type": "markdown",
   "metadata": {
    "colab_type": "text",
    "id": "_qac6D74QKvj"
   },
   "source": [
    "For demonstration purpose only"
   ]
  },
  {
   "cell_type": "code",
   "execution_count": 0,
   "metadata": {
    "colab": {},
    "colab_type": "code",
    "id": "ueQhFy4qPz_6"
   },
   "outputs": [],
   "source": [
    "#Make sure that the spark classpaths are set appropriately in the \n",
    "#spark-defaults.conf file to include the driver files\n",
    "\n",
    "demoDf = SpSession.read.format(\"jdbc\").options(\n",
    "    url=\"jdbc:mysql://localhost:3306/demo\",\n",
    "    driver = \"com.mysql.jdbc.Driver\", \n",
    "    dbtable = \"demotable\",\n",
    "    user=\"root\",\n",
    "    password=\"\").load()\n",
    "    \n",
    "demoDf.show()"
   ]
  },
  {
   "cell_type": "markdown",
   "metadata": {
    "colab_type": "text",
    "id": "VeT_tFG0Q53B"
   },
   "source": [
    "# Practice"
   ]
  },
  {
   "cell_type": "markdown",
   "metadata": {
    "colab_type": "text",
    "id": "bHznB8HNRAV2"
   },
   "source": [
    "**Your course resource has a CSV file \"iris.csv\". **\n",
    "\n",
    "1-) Load that file into a Spark SQL Data Frame called \"irisDF\". **Hint:** You need to use RDDs and remove the header line.\n",
    "      \n",
    "2-) In the irisDF, filter for rows whose PetalWidth is greater than 0.4 and count them.\n",
    "      **Hint:** Check for Spark documentation on how to count rows : https://spark.apache.org/docs/latest/api/python/pyspark.sql.html\n",
    "      \n",
    "3-) Register a temp table called \"iris\" using irisDF. Then find average Petal Width by Species using that table.\n",
    "\n"
   ]
  },
  {
   "cell_type": "code",
   "execution_count": 0,
   "metadata": {
    "colab": {},
    "colab_type": "code",
    "id": "e9cjBAhVQ8Vp"
   },
   "outputs": [],
   "source": []
  }
 ],
 "metadata": {
  "colab": {
   "collapsed_sections": [
    "6jfP-uLCJM50",
    "vkdKMIWRJmcr",
    "QnNi_4IlMIq8",
    "Ib0Bhi84PLT3",
    "dlzIXamUPove",
    "PfX9IxuIP8bD",
    "VeT_tFG0Q53B"
   ],
   "name": "Spark sql.ipynb",
   "provenance": [],
   "version": "0.3.2"
  },
  "kernelspec": {
   "display_name": "Python 3",
   "language": "python",
   "name": "python3"
  },
  "language_info": {
   "codemirror_mode": {
    "name": "ipython",
    "version": 3
   },
   "file_extension": ".py",
   "mimetype": "text/x-python",
   "name": "python",
   "nbconvert_exporter": "python",
   "pygments_lexer": "ipython3",
   "version": "3.6.6"
  }
 },
 "nbformat": 4,
 "nbformat_minor": 1
}
